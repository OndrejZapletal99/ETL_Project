{
 "cells": [
  {
   "cell_type": "code",
   "execution_count": 18,
   "metadata": {},
   "outputs": [],
   "source": [
    "import pandas as pd\n",
    "import numpy as np\n",
    "from module_folder.classes import WebScraper\n",
    "from module_folder.key_words import key_words, person"
   ]
  },
  {
   "cell_type": "markdown",
   "metadata": {},
   "source": [
    "# 1. Web Scraping"
   ]
  },
  {
   "cell_type": "code",
   "execution_count": 10,
   "metadata": {},
   "outputs": [],
   "source": [
    "web = WebScraper('https://www.novinky.cz/')\n",
    "web.web_reader()\n",
    "web.article_find()\n",
    "df = web.articles_to_df()"
   ]
  },
  {
   "cell_type": "code",
   "execution_count": 15,
   "metadata": {},
   "outputs": [
    {
     "data": {
      "text/html": [
       "<div>\n",
       "<style scoped>\n",
       "    .dataframe tbody tr th:only-of-type {\n",
       "        vertical-align: middle;\n",
       "    }\n",
       "\n",
       "    .dataframe tbody tr th {\n",
       "        vertical-align: top;\n",
       "    }\n",
       "\n",
       "    .dataframe thead th {\n",
       "        text-align: right;\n",
       "    }\n",
       "</style>\n",
       "<table border=\"1\" class=\"dataframe\">\n",
       "  <thead>\n",
       "    <tr style=\"text-align: right;\">\n",
       "      <th></th>\n",
       "      <th>Title</th>\n",
       "      <th>Link</th>\n",
       "      <th>Download_Date</th>\n",
       "    </tr>\n",
       "  </thead>\n",
       "  <tbody>\n",
       "    <tr>\n",
       "      <th>0</th>\n",
       "      <td>Legendární Nokii 3310 předělal nadšenec pro po...</td>\n",
       "      <td>https://www.novinky.cz/clanek/internet-a-pc-mo...</td>\n",
       "      <td>2025-03-23</td>\n",
       "    </tr>\n",
       "    <tr>\n",
       "      <th>1</th>\n",
       "      <td>KVÍZ: Rekordy dřevostaveb – znáte ty nejvyšší,...</td>\n",
       "      <td>https://www.novinky.cz/clanek/bydleni-kviz-rek...</td>\n",
       "      <td>2025-03-23</td>\n",
       "    </tr>\n",
       "    <tr>\n",
       "      <th>2</th>\n",
       "      <td>Konec éry se blíží, Bugatti zahajuje dodávky p...</td>\n",
       "      <td>https://www.novinky.cz/clanek/auto-konec-ery-s...</td>\n",
       "      <td>2025-03-23</td>\n",
       "    </tr>\n",
       "    <tr>\n",
       "      <th>3</th>\n",
       "      <td>Rusko jako nebezpečí nevnímám, řekla Konečná</td>\n",
       "      <td>https://www.novinky.cz/clanek/domaci-rusko-jak...</td>\n",
       "      <td>2025-03-23</td>\n",
       "    </tr>\n",
       "    <tr>\n",
       "      <th>4</th>\n",
       "      <td>Pravdy a mýty o intimním životě</td>\n",
       "      <td>https://www.novinky.cz/clanek/lifestyle-sex-vz...</td>\n",
       "      <td>2025-03-23</td>\n",
       "    </tr>\n",
       "  </tbody>\n",
       "</table>\n",
       "</div>"
      ],
      "text/plain": [
       "                                               Title  \\\n",
       "0  Legendární Nokii 3310 předělal nadšenec pro po...   \n",
       "1  KVÍZ: Rekordy dřevostaveb – znáte ty nejvyšší,...   \n",
       "2  Konec éry se blíží, Bugatti zahajuje dodávky p...   \n",
       "3       Rusko jako nebezpečí nevnímám, řekla Konečná   \n",
       "4                    Pravdy a mýty o intimním životě   \n",
       "\n",
       "                                                Link Download_Date  \n",
       "0  https://www.novinky.cz/clanek/internet-a-pc-mo...    2025-03-23  \n",
       "1  https://www.novinky.cz/clanek/bydleni-kviz-rek...    2025-03-23  \n",
       "2  https://www.novinky.cz/clanek/auto-konec-ery-s...    2025-03-23  \n",
       "3  https://www.novinky.cz/clanek/domaci-rusko-jak...    2025-03-23  \n",
       "4  https://www.novinky.cz/clanek/lifestyle-sex-vz...    2025-03-23  "
      ]
     },
     "execution_count": 15,
     "metadata": {},
     "output_type": "execute_result"
    }
   ],
   "source": [
    "df.head(5)"
   ]
  },
  {
   "cell_type": "markdown",
   "metadata": {},
   "source": [
    "# 2. DataFrame transformation"
   ]
  },
  {
   "cell_type": "markdown",
   "metadata": {},
   "source": [
    "## 2.1 Keywords and Persons"
   ]
  },
  {
   "cell_type": "code",
   "execution_count": null,
   "metadata": {},
   "outputs": [
    {
     "data": {
      "text/plain": [
       "['Volby', 'ANO', 'Piráti', 'Spolu', 'Stačilo', 'SPD', 'STAN', 'Motoristé']"
      ]
     },
     "execution_count": 26,
     "metadata": {},
     "output_type": "execute_result"
    }
   ],
   "source": [
    "# Keys from Dict to the list\n",
    "key_words_keys_list = list(key_words.keys())\n",
    "key_words_keys_list"
   ]
  },
  {
   "cell_type": "code",
   "execution_count": null,
   "metadata": {},
   "outputs": [],
   "source": [
    "# List with keywords as new columns in the DF\n",
    "df[key_words_keys_list] = np.nan"
   ]
  },
  {
   "cell_type": "code",
   "execution_count": null,
   "metadata": {},
   "outputs": [],
   "source": [
    "# Person as a new columns in the DF\n",
    "df['Person'] = np.nan"
   ]
  },
  {
   "cell_type": "code",
   "execution_count": 33,
   "metadata": {},
   "outputs": [
    {
     "data": {
      "text/html": [
       "<div>\n",
       "<style scoped>\n",
       "    .dataframe tbody tr th:only-of-type {\n",
       "        vertical-align: middle;\n",
       "    }\n",
       "\n",
       "    .dataframe tbody tr th {\n",
       "        vertical-align: top;\n",
       "    }\n",
       "\n",
       "    .dataframe thead th {\n",
       "        text-align: right;\n",
       "    }\n",
       "</style>\n",
       "<table border=\"1\" class=\"dataframe\">\n",
       "  <thead>\n",
       "    <tr style=\"text-align: right;\">\n",
       "      <th></th>\n",
       "      <th>Title</th>\n",
       "      <th>Link</th>\n",
       "      <th>Download_Date</th>\n",
       "      <th>Volby</th>\n",
       "      <th>ANO</th>\n",
       "      <th>Piráti</th>\n",
       "      <th>Spolu</th>\n",
       "      <th>Stačilo</th>\n",
       "      <th>SPD</th>\n",
       "      <th>STAN</th>\n",
       "      <th>Motoristé</th>\n",
       "      <th>Person</th>\n",
       "    </tr>\n",
       "  </thead>\n",
       "  <tbody>\n",
       "    <tr>\n",
       "      <th>0</th>\n",
       "      <td>Legendární Nokii 3310 předělal nadšenec pro po...</td>\n",
       "      <td>https://www.novinky.cz/clanek/internet-a-pc-mo...</td>\n",
       "      <td>2025-03-23</td>\n",
       "      <td>NaN</td>\n",
       "      <td>NaN</td>\n",
       "      <td>NaN</td>\n",
       "      <td>NaN</td>\n",
       "      <td>NaN</td>\n",
       "      <td>NaN</td>\n",
       "      <td>NaN</td>\n",
       "      <td>NaN</td>\n",
       "      <td>NaN</td>\n",
       "    </tr>\n",
       "    <tr>\n",
       "      <th>1</th>\n",
       "      <td>KVÍZ: Rekordy dřevostaveb – znáte ty nejvyšší,...</td>\n",
       "      <td>https://www.novinky.cz/clanek/bydleni-kviz-rek...</td>\n",
       "      <td>2025-03-23</td>\n",
       "      <td>NaN</td>\n",
       "      <td>NaN</td>\n",
       "      <td>NaN</td>\n",
       "      <td>NaN</td>\n",
       "      <td>NaN</td>\n",
       "      <td>NaN</td>\n",
       "      <td>NaN</td>\n",
       "      <td>NaN</td>\n",
       "      <td>NaN</td>\n",
       "    </tr>\n",
       "    <tr>\n",
       "      <th>2</th>\n",
       "      <td>Konec éry se blíží, Bugatti zahajuje dodávky p...</td>\n",
       "      <td>https://www.novinky.cz/clanek/auto-konec-ery-s...</td>\n",
       "      <td>2025-03-23</td>\n",
       "      <td>NaN</td>\n",
       "      <td>NaN</td>\n",
       "      <td>NaN</td>\n",
       "      <td>NaN</td>\n",
       "      <td>NaN</td>\n",
       "      <td>NaN</td>\n",
       "      <td>NaN</td>\n",
       "      <td>NaN</td>\n",
       "      <td>NaN</td>\n",
       "    </tr>\n",
       "    <tr>\n",
       "      <th>3</th>\n",
       "      <td>Rusko jako nebezpečí nevnímám, řekla Konečná</td>\n",
       "      <td>https://www.novinky.cz/clanek/domaci-rusko-jak...</td>\n",
       "      <td>2025-03-23</td>\n",
       "      <td>NaN</td>\n",
       "      <td>NaN</td>\n",
       "      <td>NaN</td>\n",
       "      <td>NaN</td>\n",
       "      <td>NaN</td>\n",
       "      <td>NaN</td>\n",
       "      <td>NaN</td>\n",
       "      <td>NaN</td>\n",
       "      <td>NaN</td>\n",
       "    </tr>\n",
       "    <tr>\n",
       "      <th>4</th>\n",
       "      <td>Pravdy a mýty o intimním životě</td>\n",
       "      <td>https://www.novinky.cz/clanek/lifestyle-sex-vz...</td>\n",
       "      <td>2025-03-23</td>\n",
       "      <td>NaN</td>\n",
       "      <td>NaN</td>\n",
       "      <td>NaN</td>\n",
       "      <td>NaN</td>\n",
       "      <td>NaN</td>\n",
       "      <td>NaN</td>\n",
       "      <td>NaN</td>\n",
       "      <td>NaN</td>\n",
       "      <td>NaN</td>\n",
       "    </tr>\n",
       "  </tbody>\n",
       "</table>\n",
       "</div>"
      ],
      "text/plain": [
       "                                               Title  \\\n",
       "0  Legendární Nokii 3310 předělal nadšenec pro po...   \n",
       "1  KVÍZ: Rekordy dřevostaveb – znáte ty nejvyšší,...   \n",
       "2  Konec éry se blíží, Bugatti zahajuje dodávky p...   \n",
       "3       Rusko jako nebezpečí nevnímám, řekla Konečná   \n",
       "4                    Pravdy a mýty o intimním životě   \n",
       "\n",
       "                                                Link Download_Date  Volby  \\\n",
       "0  https://www.novinky.cz/clanek/internet-a-pc-mo...    2025-03-23    NaN   \n",
       "1  https://www.novinky.cz/clanek/bydleni-kviz-rek...    2025-03-23    NaN   \n",
       "2  https://www.novinky.cz/clanek/auto-konec-ery-s...    2025-03-23    NaN   \n",
       "3  https://www.novinky.cz/clanek/domaci-rusko-jak...    2025-03-23    NaN   \n",
       "4  https://www.novinky.cz/clanek/lifestyle-sex-vz...    2025-03-23    NaN   \n",
       "\n",
       "   ANO  Piráti  Spolu  Stačilo  SPD  STAN  Motoristé  Person  \n",
       "0  NaN     NaN    NaN      NaN  NaN   NaN        NaN     NaN  \n",
       "1  NaN     NaN    NaN      NaN  NaN   NaN        NaN     NaN  \n",
       "2  NaN     NaN    NaN      NaN  NaN   NaN        NaN     NaN  \n",
       "3  NaN     NaN    NaN      NaN  NaN   NaN        NaN     NaN  \n",
       "4  NaN     NaN    NaN      NaN  NaN   NaN        NaN     NaN  "
      ]
     },
     "execution_count": 33,
     "metadata": {},
     "output_type": "execute_result"
    }
   ],
   "source": [
    "df.head(5)"
   ]
  },
  {
   "cell_type": "markdown",
   "metadata": {},
   "source": [
    "# 2.2 Data Transformation "
   ]
  },
  {
   "cell_type": "markdown",
   "metadata": {},
   "source": [
    "### 2.2.1 Columns Dtypes"
   ]
  },
  {
   "cell_type": "markdown",
   "metadata": {},
   "source": [
    "### 2.2.2 True/False Keywords and Persons\n",
    "\n"
   ]
  },
  {
   "cell_type": "code",
   "execution_count": null,
   "metadata": {},
   "outputs": [],
   "source": []
  },
  {
   "cell_type": "code",
   "execution_count": null,
   "metadata": {},
   "outputs": [],
   "source": []
  },
  {
   "cell_type": "markdown",
   "metadata": {},
   "source": [
    "# 3. Load to the SQL"
   ]
  }
 ],
 "metadata": {
  "kernelspec": {
   "display_name": "Python 3",
   "language": "python",
   "name": "python3"
  },
  "language_info": {
   "codemirror_mode": {
    "name": "ipython",
    "version": 3
   },
   "file_extension": ".py",
   "mimetype": "text/x-python",
   "name": "python",
   "nbconvert_exporter": "python",
   "pygments_lexer": "ipython3",
   "version": "3.12.4"
  }
 },
 "nbformat": 4,
 "nbformat_minor": 2
}
