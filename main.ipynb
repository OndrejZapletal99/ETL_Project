{
 "cells": [
  {
   "cell_type": "code",
   "execution_count": 1,
   "metadata": {},
   "outputs": [],
   "source": [
    "import pandas as pd\n",
    "import numpy as np\n",
    "from module_folder.classes import WebScraper\n",
    "from module_folder.key_words import key_words, key_person\n",
    "import module_folder.functions as mf"
   ]
  },
  {
   "cell_type": "markdown",
   "metadata": {},
   "source": [
    "# 1. Web Scraping"
   ]
  },
  {
   "cell_type": "code",
   "execution_count": 2,
   "metadata": {},
   "outputs": [],
   "source": [
    "web = WebScraper('https://www.novinky.cz/')\n",
    "web.web_reader()\n",
    "web.article_find()\n",
    "df = web.articles_to_df()"
   ]
  },
  {
   "cell_type": "code",
   "execution_count": 3,
   "metadata": {},
   "outputs": [
    {
     "data": {
      "text/html": [
       "<div>\n",
       "<style scoped>\n",
       "    .dataframe tbody tr th:only-of-type {\n",
       "        vertical-align: middle;\n",
       "    }\n",
       "\n",
       "    .dataframe tbody tr th {\n",
       "        vertical-align: top;\n",
       "    }\n",
       "\n",
       "    .dataframe thead th {\n",
       "        text-align: right;\n",
       "    }\n",
       "</style>\n",
       "<table border=\"1\" class=\"dataframe\">\n",
       "  <thead>\n",
       "    <tr style=\"text-align: right;\">\n",
       "      <th></th>\n",
       "      <th>Title</th>\n",
       "      <th>Link</th>\n",
       "      <th>Download_Date</th>\n",
       "    </tr>\n",
       "  </thead>\n",
       "  <tbody>\n",
       "    <tr>\n",
       "      <th>0</th>\n",
       "      <td>KVÍZ: Rekordy dřevostaveb – znáte ty nejvyšší,...</td>\n",
       "      <td>https://www.novinky.cz/clanek/bydleni-kviz-rek...</td>\n",
       "      <td>2025-02-23</td>\n",
       "    </tr>\n",
       "    <tr>\n",
       "      <th>1</th>\n",
       "      <td>ON-LINE: Německo volí, čeká se vítězství konze...</td>\n",
       "      <td>https://www.novinky.cz/clanek/volby-nemecko-20...</td>\n",
       "      <td>2025-02-23</td>\n",
       "    </tr>\n",
       "    <tr>\n",
       "      <th>2</th>\n",
       "      <td>Válka neválka, ruský řetězec s levným zbožím v...</td>\n",
       "      <td>https://www.novinky.cz/clanek/ekonomika-valka-...</td>\n",
       "      <td>2025-02-23</td>\n",
       "    </tr>\n",
       "    <tr>\n",
       "      <th>3</th>\n",
       "      <td>Situace na Slovensku je vážná. Opozice by měla...</td>\n",
       "      <td>https://www.novinky.cz/clanek/podcasty-polital...</td>\n",
       "      <td>2025-02-23</td>\n",
       "    </tr>\n",
       "    <tr>\n",
       "      <th>4</th>\n",
       "      <td>Legendární Nokii 3310 předělal nadšenec pro po...</td>\n",
       "      <td>https://www.novinky.cz/clanek/internet-a-pc-mo...</td>\n",
       "      <td>2025-02-23</td>\n",
       "    </tr>\n",
       "  </tbody>\n",
       "</table>\n",
       "</div>"
      ],
      "text/plain": [
       "                                               Title  \\\n",
       "0  KVÍZ: Rekordy dřevostaveb – znáte ty nejvyšší,...   \n",
       "1  ON-LINE: Německo volí, čeká se vítězství konze...   \n",
       "2  Válka neválka, ruský řetězec s levným zbožím v...   \n",
       "3  Situace na Slovensku je vážná. Opozice by měla...   \n",
       "4  Legendární Nokii 3310 předělal nadšenec pro po...   \n",
       "\n",
       "                                                Link Download_Date  \n",
       "0  https://www.novinky.cz/clanek/bydleni-kviz-rek...    2025-02-23  \n",
       "1  https://www.novinky.cz/clanek/volby-nemecko-20...    2025-02-23  \n",
       "2  https://www.novinky.cz/clanek/ekonomika-valka-...    2025-02-23  \n",
       "3  https://www.novinky.cz/clanek/podcasty-polital...    2025-02-23  \n",
       "4  https://www.novinky.cz/clanek/internet-a-pc-mo...    2025-02-23  "
      ]
     },
     "execution_count": 3,
     "metadata": {},
     "output_type": "execute_result"
    }
   ],
   "source": [
    "df.head(5)"
   ]
  },
  {
   "cell_type": "markdown",
   "metadata": {},
   "source": [
    "# 2. DataFrame transformation"
   ]
  },
  {
   "cell_type": "markdown",
   "metadata": {},
   "source": [
    "## 2.1 Keywords and Persons"
   ]
  },
  {
   "cell_type": "code",
   "execution_count": 4,
   "metadata": {},
   "outputs": [
    {
     "data": {
      "text/plain": [
       "['Volby', 'ANO', 'Piráti', 'Spolu', 'Stačilo', 'SPD', 'STAN', 'Motoristé']"
      ]
     },
     "execution_count": 4,
     "metadata": {},
     "output_type": "execute_result"
    }
   ],
   "source": [
    "# Keys from Dict to the list\n",
    "key_words_keys_list = list(key_words.keys())\n",
    "key_words_keys_list"
   ]
  },
  {
   "cell_type": "code",
   "execution_count": 5,
   "metadata": {},
   "outputs": [],
   "source": [
    "# List with keywords as new columns in the DF\n",
    "df[key_words_keys_list] = np.nan"
   ]
  },
  {
   "cell_type": "code",
   "execution_count": 6,
   "metadata": {},
   "outputs": [],
   "source": [
    "# Person as a new columns in the DF\n",
    "df['Person'] = np.nan"
   ]
  },
  {
   "cell_type": "code",
   "execution_count": 7,
   "metadata": {},
   "outputs": [
    {
     "data": {
      "text/html": [
       "<div>\n",
       "<style scoped>\n",
       "    .dataframe tbody tr th:only-of-type {\n",
       "        vertical-align: middle;\n",
       "    }\n",
       "\n",
       "    .dataframe tbody tr th {\n",
       "        vertical-align: top;\n",
       "    }\n",
       "\n",
       "    .dataframe thead th {\n",
       "        text-align: right;\n",
       "    }\n",
       "</style>\n",
       "<table border=\"1\" class=\"dataframe\">\n",
       "  <thead>\n",
       "    <tr style=\"text-align: right;\">\n",
       "      <th></th>\n",
       "      <th>Title</th>\n",
       "      <th>Link</th>\n",
       "      <th>Download_Date</th>\n",
       "      <th>Volby</th>\n",
       "      <th>ANO</th>\n",
       "      <th>Piráti</th>\n",
       "      <th>Spolu</th>\n",
       "      <th>Stačilo</th>\n",
       "      <th>SPD</th>\n",
       "      <th>STAN</th>\n",
       "      <th>Motoristé</th>\n",
       "      <th>Person</th>\n",
       "    </tr>\n",
       "  </thead>\n",
       "  <tbody>\n",
       "    <tr>\n",
       "      <th>0</th>\n",
       "      <td>KVÍZ: Rekordy dřevostaveb – znáte ty nejvyšší,...</td>\n",
       "      <td>https://www.novinky.cz/clanek/bydleni-kviz-rek...</td>\n",
       "      <td>2025-02-23</td>\n",
       "      <td>NaN</td>\n",
       "      <td>NaN</td>\n",
       "      <td>NaN</td>\n",
       "      <td>NaN</td>\n",
       "      <td>NaN</td>\n",
       "      <td>NaN</td>\n",
       "      <td>NaN</td>\n",
       "      <td>NaN</td>\n",
       "      <td>NaN</td>\n",
       "    </tr>\n",
       "    <tr>\n",
       "      <th>1</th>\n",
       "      <td>ON-LINE: Německo volí, čeká se vítězství konze...</td>\n",
       "      <td>https://www.novinky.cz/clanek/volby-nemecko-20...</td>\n",
       "      <td>2025-02-23</td>\n",
       "      <td>NaN</td>\n",
       "      <td>NaN</td>\n",
       "      <td>NaN</td>\n",
       "      <td>NaN</td>\n",
       "      <td>NaN</td>\n",
       "      <td>NaN</td>\n",
       "      <td>NaN</td>\n",
       "      <td>NaN</td>\n",
       "      <td>NaN</td>\n",
       "    </tr>\n",
       "    <tr>\n",
       "      <th>2</th>\n",
       "      <td>Válka neválka, ruský řetězec s levným zbožím v...</td>\n",
       "      <td>https://www.novinky.cz/clanek/ekonomika-valka-...</td>\n",
       "      <td>2025-02-23</td>\n",
       "      <td>NaN</td>\n",
       "      <td>NaN</td>\n",
       "      <td>NaN</td>\n",
       "      <td>NaN</td>\n",
       "      <td>NaN</td>\n",
       "      <td>NaN</td>\n",
       "      <td>NaN</td>\n",
       "      <td>NaN</td>\n",
       "      <td>NaN</td>\n",
       "    </tr>\n",
       "    <tr>\n",
       "      <th>3</th>\n",
       "      <td>Situace na Slovensku je vážná. Opozice by měla...</td>\n",
       "      <td>https://www.novinky.cz/clanek/podcasty-polital...</td>\n",
       "      <td>2025-02-23</td>\n",
       "      <td>NaN</td>\n",
       "      <td>NaN</td>\n",
       "      <td>NaN</td>\n",
       "      <td>NaN</td>\n",
       "      <td>NaN</td>\n",
       "      <td>NaN</td>\n",
       "      <td>NaN</td>\n",
       "      <td>NaN</td>\n",
       "      <td>NaN</td>\n",
       "    </tr>\n",
       "    <tr>\n",
       "      <th>4</th>\n",
       "      <td>Legendární Nokii 3310 předělal nadšenec pro po...</td>\n",
       "      <td>https://www.novinky.cz/clanek/internet-a-pc-mo...</td>\n",
       "      <td>2025-02-23</td>\n",
       "      <td>NaN</td>\n",
       "      <td>NaN</td>\n",
       "      <td>NaN</td>\n",
       "      <td>NaN</td>\n",
       "      <td>NaN</td>\n",
       "      <td>NaN</td>\n",
       "      <td>NaN</td>\n",
       "      <td>NaN</td>\n",
       "      <td>NaN</td>\n",
       "    </tr>\n",
       "  </tbody>\n",
       "</table>\n",
       "</div>"
      ],
      "text/plain": [
       "                                               Title  \\\n",
       "0  KVÍZ: Rekordy dřevostaveb – znáte ty nejvyšší,...   \n",
       "1  ON-LINE: Německo volí, čeká se vítězství konze...   \n",
       "2  Válka neválka, ruský řetězec s levným zbožím v...   \n",
       "3  Situace na Slovensku je vážná. Opozice by měla...   \n",
       "4  Legendární Nokii 3310 předělal nadšenec pro po...   \n",
       "\n",
       "                                                Link Download_Date  Volby  \\\n",
       "0  https://www.novinky.cz/clanek/bydleni-kviz-rek...    2025-02-23    NaN   \n",
       "1  https://www.novinky.cz/clanek/volby-nemecko-20...    2025-02-23    NaN   \n",
       "2  https://www.novinky.cz/clanek/ekonomika-valka-...    2025-02-23    NaN   \n",
       "3  https://www.novinky.cz/clanek/podcasty-polital...    2025-02-23    NaN   \n",
       "4  https://www.novinky.cz/clanek/internet-a-pc-mo...    2025-02-23    NaN   \n",
       "\n",
       "   ANO  Piráti  Spolu  Stačilo  SPD  STAN  Motoristé  Person  \n",
       "0  NaN     NaN    NaN      NaN  NaN   NaN        NaN     NaN  \n",
       "1  NaN     NaN    NaN      NaN  NaN   NaN        NaN     NaN  \n",
       "2  NaN     NaN    NaN      NaN  NaN   NaN        NaN     NaN  \n",
       "3  NaN     NaN    NaN      NaN  NaN   NaN        NaN     NaN  \n",
       "4  NaN     NaN    NaN      NaN  NaN   NaN        NaN     NaN  "
      ]
     },
     "execution_count": 7,
     "metadata": {},
     "output_type": "execute_result"
    }
   ],
   "source": [
    "df.head(5)"
   ]
  },
  {
   "cell_type": "markdown",
   "metadata": {},
   "source": [
    "## 2.2 Data Transformation "
   ]
  },
  {
   "cell_type": "markdown",
   "metadata": {},
   "source": [
    "### 2.2.1 Columns Dtypes"
   ]
  },
  {
   "cell_type": "code",
   "execution_count": 8,
   "metadata": {},
   "outputs": [
    {
     "data": {
      "text/plain": [
       "Title             object\n",
       "Link              object\n",
       "Download_Date     object\n",
       "Volby            float64\n",
       "ANO              float64\n",
       "Piráti           float64\n",
       "Spolu            float64\n",
       "Stačilo          float64\n",
       "SPD              float64\n",
       "STAN             float64\n",
       "Motoristé        float64\n",
       "Person           float64\n",
       "dtype: object"
      ]
     },
     "execution_count": 8,
     "metadata": {},
     "output_type": "execute_result"
    }
   ],
   "source": [
    "df.dtypes"
   ]
  },
  {
   "cell_type": "code",
   "execution_count": 9,
   "metadata": {},
   "outputs": [
    {
     "data": {
      "text/plain": [
       "['Title', 'Link', 'Download_Date']"
      ]
     },
     "execution_count": 9,
     "metadata": {},
     "output_type": "execute_result"
    }
   ],
   "source": [
    "#Object Cols\n",
    "object_cols_list = mf.object_cols(df)\n",
    "object_cols_list"
   ]
  },
  {
   "cell_type": "code",
   "execution_count": 10,
   "metadata": {},
   "outputs": [
    {
     "data": {
      "text/plain": [
       "['Volby',\n",
       " 'ANO',\n",
       " 'Piráti',\n",
       " 'Spolu',\n",
       " 'Stačilo',\n",
       " 'SPD',\n",
       " 'STAN',\n",
       " 'Motoristé',\n",
       " 'Person']"
      ]
     },
     "execution_count": 10,
     "metadata": {},
     "output_type": "execute_result"
    }
   ],
   "source": [
    "#Float Cols\n",
    "float_cols_list = mf.float_cols(df)\n",
    "float_cols_list"
   ]
  },
  {
   "cell_type": "code",
   "execution_count": 11,
   "metadata": {},
   "outputs": [
    {
     "data": {
      "text/plain": [
       "[]"
      ]
     },
     "execution_count": 11,
     "metadata": {},
     "output_type": "execute_result"
    }
   ],
   "source": [
    "#Int cols\n",
    "int_cols_list = mf.int_cols(df)\n",
    "int_cols_list\n"
   ]
  },
  {
   "cell_type": "code",
   "execution_count": 12,
   "metadata": {},
   "outputs": [
    {
     "data": {
      "text/plain": [
       "[]"
      ]
     },
     "execution_count": 12,
     "metadata": {},
     "output_type": "execute_result"
    }
   ],
   "source": [
    "#Bools cols\n",
    "bool_cols_list = mf.bool_cols(df)\n",
    "bool_cols_list"
   ]
  },
  {
   "cell_type": "code",
   "execution_count": 13,
   "metadata": {},
   "outputs": [
    {
     "data": {
      "text/plain": [
       "[]"
      ]
     },
     "execution_count": 13,
     "metadata": {},
     "output_type": "execute_result"
    }
   ],
   "source": [
    "#Datetime cols\n",
    "datetime_cols_list = mf.datetime_cols(df)\n",
    "datetime_cols_list"
   ]
  },
  {
   "cell_type": "code",
   "execution_count": 14,
   "metadata": {},
   "outputs": [],
   "source": [
    "#Change to string\n",
    "mf.cols_to_string(df,['Title','Link','Person'])"
   ]
  },
  {
   "cell_type": "code",
   "execution_count": 15,
   "metadata": {},
   "outputs": [],
   "source": [
    "#Change to bool\n",
    "mf.cols_to_bool(df,['Volby',\n",
    " 'ANO',\n",
    " 'Piráti',\n",
    " 'Spolu',\n",
    " 'Stačilo',\n",
    " 'SPD',\n",
    " 'STAN',\n",
    " 'Motoristé'])"
   ]
  },
  {
   "cell_type": "code",
   "execution_count": 16,
   "metadata": {},
   "outputs": [],
   "source": [
    "#Change to datetime\n",
    "mf.cols_to_datetime(df,['Download_Date'])"
   ]
  },
  {
   "cell_type": "code",
   "execution_count": 17,
   "metadata": {},
   "outputs": [
    {
     "data": {
      "text/plain": [
       "Title            string[python]\n",
       "Link             string[python]\n",
       "Download_Date    datetime64[ns]\n",
       "Volby                   boolean\n",
       "ANO                     boolean\n",
       "Piráti                  boolean\n",
       "Spolu                   boolean\n",
       "Stačilo                 boolean\n",
       "SPD                     boolean\n",
       "STAN                    boolean\n",
       "Motoristé               boolean\n",
       "Person           string[python]\n",
       "dtype: object"
      ]
     },
     "execution_count": 17,
     "metadata": {},
     "output_type": "execute_result"
    }
   ],
   "source": [
    "df.dtypes"
   ]
  },
  {
   "cell_type": "code",
   "execution_count": 18,
   "metadata": {},
   "outputs": [
    {
     "data": {
      "text/html": [
       "<div>\n",
       "<style scoped>\n",
       "    .dataframe tbody tr th:only-of-type {\n",
       "        vertical-align: middle;\n",
       "    }\n",
       "\n",
       "    .dataframe tbody tr th {\n",
       "        vertical-align: top;\n",
       "    }\n",
       "\n",
       "    .dataframe thead th {\n",
       "        text-align: right;\n",
       "    }\n",
       "</style>\n",
       "<table border=\"1\" class=\"dataframe\">\n",
       "  <thead>\n",
       "    <tr style=\"text-align: right;\">\n",
       "      <th></th>\n",
       "      <th>Title</th>\n",
       "      <th>Link</th>\n",
       "      <th>Download_Date</th>\n",
       "      <th>Volby</th>\n",
       "      <th>ANO</th>\n",
       "      <th>Piráti</th>\n",
       "      <th>Spolu</th>\n",
       "      <th>Stačilo</th>\n",
       "      <th>SPD</th>\n",
       "      <th>STAN</th>\n",
       "      <th>Motoristé</th>\n",
       "      <th>Person</th>\n",
       "    </tr>\n",
       "  </thead>\n",
       "  <tbody>\n",
       "    <tr>\n",
       "      <th>0</th>\n",
       "      <td>KVÍZ: Rekordy dřevostaveb – znáte ty nejvyšší,...</td>\n",
       "      <td>https://www.novinky.cz/clanek/bydleni-kviz-rek...</td>\n",
       "      <td>2025-02-23</td>\n",
       "      <td>&lt;NA&gt;</td>\n",
       "      <td>&lt;NA&gt;</td>\n",
       "      <td>&lt;NA&gt;</td>\n",
       "      <td>&lt;NA&gt;</td>\n",
       "      <td>&lt;NA&gt;</td>\n",
       "      <td>&lt;NA&gt;</td>\n",
       "      <td>&lt;NA&gt;</td>\n",
       "      <td>&lt;NA&gt;</td>\n",
       "      <td>&lt;NA&gt;</td>\n",
       "    </tr>\n",
       "    <tr>\n",
       "      <th>1</th>\n",
       "      <td>ON-LINE: Německo volí, čeká se vítězství konze...</td>\n",
       "      <td>https://www.novinky.cz/clanek/volby-nemecko-20...</td>\n",
       "      <td>2025-02-23</td>\n",
       "      <td>&lt;NA&gt;</td>\n",
       "      <td>&lt;NA&gt;</td>\n",
       "      <td>&lt;NA&gt;</td>\n",
       "      <td>&lt;NA&gt;</td>\n",
       "      <td>&lt;NA&gt;</td>\n",
       "      <td>&lt;NA&gt;</td>\n",
       "      <td>&lt;NA&gt;</td>\n",
       "      <td>&lt;NA&gt;</td>\n",
       "      <td>&lt;NA&gt;</td>\n",
       "    </tr>\n",
       "    <tr>\n",
       "      <th>2</th>\n",
       "      <td>Válka neválka, ruský řetězec s levným zbožím v...</td>\n",
       "      <td>https://www.novinky.cz/clanek/ekonomika-valka-...</td>\n",
       "      <td>2025-02-23</td>\n",
       "      <td>&lt;NA&gt;</td>\n",
       "      <td>&lt;NA&gt;</td>\n",
       "      <td>&lt;NA&gt;</td>\n",
       "      <td>&lt;NA&gt;</td>\n",
       "      <td>&lt;NA&gt;</td>\n",
       "      <td>&lt;NA&gt;</td>\n",
       "      <td>&lt;NA&gt;</td>\n",
       "      <td>&lt;NA&gt;</td>\n",
       "      <td>&lt;NA&gt;</td>\n",
       "    </tr>\n",
       "    <tr>\n",
       "      <th>3</th>\n",
       "      <td>Situace na Slovensku je vážná. Opozice by měla...</td>\n",
       "      <td>https://www.novinky.cz/clanek/podcasty-polital...</td>\n",
       "      <td>2025-02-23</td>\n",
       "      <td>&lt;NA&gt;</td>\n",
       "      <td>&lt;NA&gt;</td>\n",
       "      <td>&lt;NA&gt;</td>\n",
       "      <td>&lt;NA&gt;</td>\n",
       "      <td>&lt;NA&gt;</td>\n",
       "      <td>&lt;NA&gt;</td>\n",
       "      <td>&lt;NA&gt;</td>\n",
       "      <td>&lt;NA&gt;</td>\n",
       "      <td>&lt;NA&gt;</td>\n",
       "    </tr>\n",
       "    <tr>\n",
       "      <th>4</th>\n",
       "      <td>Legendární Nokii 3310 předělal nadšenec pro po...</td>\n",
       "      <td>https://www.novinky.cz/clanek/internet-a-pc-mo...</td>\n",
       "      <td>2025-02-23</td>\n",
       "      <td>&lt;NA&gt;</td>\n",
       "      <td>&lt;NA&gt;</td>\n",
       "      <td>&lt;NA&gt;</td>\n",
       "      <td>&lt;NA&gt;</td>\n",
       "      <td>&lt;NA&gt;</td>\n",
       "      <td>&lt;NA&gt;</td>\n",
       "      <td>&lt;NA&gt;</td>\n",
       "      <td>&lt;NA&gt;</td>\n",
       "      <td>&lt;NA&gt;</td>\n",
       "    </tr>\n",
       "  </tbody>\n",
       "</table>\n",
       "</div>"
      ],
      "text/plain": [
       "                                               Title  \\\n",
       "0  KVÍZ: Rekordy dřevostaveb – znáte ty nejvyšší,...   \n",
       "1  ON-LINE: Německo volí, čeká se vítězství konze...   \n",
       "2  Válka neválka, ruský řetězec s levným zbožím v...   \n",
       "3  Situace na Slovensku je vážná. Opozice by měla...   \n",
       "4  Legendární Nokii 3310 předělal nadšenec pro po...   \n",
       "\n",
       "                                                Link Download_Date  Volby  \\\n",
       "0  https://www.novinky.cz/clanek/bydleni-kviz-rek...    2025-02-23   <NA>   \n",
       "1  https://www.novinky.cz/clanek/volby-nemecko-20...    2025-02-23   <NA>   \n",
       "2  https://www.novinky.cz/clanek/ekonomika-valka-...    2025-02-23   <NA>   \n",
       "3  https://www.novinky.cz/clanek/podcasty-polital...    2025-02-23   <NA>   \n",
       "4  https://www.novinky.cz/clanek/internet-a-pc-mo...    2025-02-23   <NA>   \n",
       "\n",
       "    ANO  Piráti  Spolu  Stačilo   SPD  STAN  Motoristé Person  \n",
       "0  <NA>    <NA>   <NA>     <NA>  <NA>  <NA>       <NA>   <NA>  \n",
       "1  <NA>    <NA>   <NA>     <NA>  <NA>  <NA>       <NA>   <NA>  \n",
       "2  <NA>    <NA>   <NA>     <NA>  <NA>  <NA>       <NA>   <NA>  \n",
       "3  <NA>    <NA>   <NA>     <NA>  <NA>  <NA>       <NA>   <NA>  \n",
       "4  <NA>    <NA>   <NA>     <NA>  <NA>  <NA>       <NA>   <NA>  "
      ]
     },
     "execution_count": 18,
     "metadata": {},
     "output_type": "execute_result"
    }
   ],
   "source": [
    "df.head(5)"
   ]
  },
  {
   "cell_type": "markdown",
   "metadata": {},
   "source": [
    "### 2.2.2 True/False Keywords and Persons\n",
    "\n"
   ]
  },
  {
   "cell_type": "code",
   "execution_count": 19,
   "metadata": {},
   "outputs": [],
   "source": [
    "key_words_cols_check = ['Volby',\n",
    " 'ANO',\n",
    " 'Piráti',\n",
    " 'Spolu',\n",
    " 'Stačilo',\n",
    " 'SPD',\n",
    " 'STAN',\n",
    " 'Motoristé']"
   ]
  },
  {
   "cell_type": "code",
   "execution_count": null,
   "metadata": {},
   "outputs": [],
   "source": [
    "# function for keywords check\n",
    "def check_keyword(title, keywords):\n",
    "    for word in keywords:\n",
    "        if word in title:\n",
    "            return True\n",
    "    return False\n"
   ]
  },
  {
   "cell_type": "code",
   "execution_count": null,
   "metadata": {},
   "outputs": [],
   "source": [
    "# keyford check function application\n",
    "for col in df[key_words_cols_check]:\n",
    "    df[col] = df['Title'].apply(lambda x : check_keyword(x,key_words[col]))"
   ]
  },
  {
   "cell_type": "code",
   "execution_count": null,
   "metadata": {},
   "outputs": [],
   "source": [
    "# function for person check\n",
    "def check_person(title, persons):\n",
    "    person_list = []\n",
    "    for person in persons:\n",
    "        if person in title:\n",
    "            person_list.append(person)\n",
    "    if person_list:\n",
    "        return \", \".join(person_list)\n",
    "    else:\n",
    "        return np.nan\n",
    "    \n"
   ]
  },
  {
   "cell_type": "code",
   "execution_count": null,
   "metadata": {},
   "outputs": [],
   "source": [
    "# fucntion person check application\n",
    "df['Person'] = df['Title'].apply(lambda x: check_person(x,key_person))"
   ]
  },
  {
   "cell_type": "code",
   "execution_count": 32,
   "metadata": {},
   "outputs": [
    {
     "data": {
      "text/html": [
       "<div>\n",
       "<style scoped>\n",
       "    .dataframe tbody tr th:only-of-type {\n",
       "        vertical-align: middle;\n",
       "    }\n",
       "\n",
       "    .dataframe tbody tr th {\n",
       "        vertical-align: top;\n",
       "    }\n",
       "\n",
       "    .dataframe thead th {\n",
       "        text-align: right;\n",
       "    }\n",
       "</style>\n",
       "<table border=\"1\" class=\"dataframe\">\n",
       "  <thead>\n",
       "    <tr style=\"text-align: right;\">\n",
       "      <th></th>\n",
       "      <th>Title</th>\n",
       "      <th>Link</th>\n",
       "      <th>Download_Date</th>\n",
       "      <th>Volby</th>\n",
       "      <th>ANO</th>\n",
       "      <th>Piráti</th>\n",
       "      <th>Spolu</th>\n",
       "      <th>Stačilo</th>\n",
       "      <th>SPD</th>\n",
       "      <th>STAN</th>\n",
       "      <th>Motoristé</th>\n",
       "      <th>Person</th>\n",
       "    </tr>\n",
       "  </thead>\n",
       "  <tbody>\n",
       "    <tr>\n",
       "      <th>27</th>\n",
       "      <td>Rusko jako nebezpečí nevnímám, řekla Konečná</td>\n",
       "      <td>https://www.novinky.cz/clanek/domaci-rusko-jak...</td>\n",
       "      <td>2025-02-23</td>\n",
       "      <td>False</td>\n",
       "      <td>False</td>\n",
       "      <td>False</td>\n",
       "      <td>False</td>\n",
       "      <td>False</td>\n",
       "      <td>False</td>\n",
       "      <td>False</td>\n",
       "      <td>False</td>\n",
       "      <td>Konečná</td>\n",
       "    </tr>\n",
       "    <tr>\n",
       "      <th>36</th>\n",
       "      <td>Neadorujeme Trumpa. Konferenci bych po hajlová...</td>\n",
       "      <td>https://www.novinky.cz/clanek/domaci-neadoruje...</td>\n",
       "      <td>2025-02-23</td>\n",
       "      <td>False</td>\n",
       "      <td>False</td>\n",
       "      <td>False</td>\n",
       "      <td>False</td>\n",
       "      <td>False</td>\n",
       "      <td>False</td>\n",
       "      <td>False</td>\n",
       "      <td>False</td>\n",
       "      <td>Havlíček</td>\n",
       "    </tr>\n",
       "    <tr>\n",
       "      <th>53</th>\n",
       "      <td>Volby by vyhrálo ANO, Piráti před Stačilo!</td>\n",
       "      <td>https://www.novinky.cz/clanek/volby-do-poslane...</td>\n",
       "      <td>2025-02-23</td>\n",
       "      <td>True</td>\n",
       "      <td>True</td>\n",
       "      <td>True</td>\n",
       "      <td>False</td>\n",
       "      <td>True</td>\n",
       "      <td>False</td>\n",
       "      <td>False</td>\n",
       "      <td>False</td>\n",
       "      <td>NaN</td>\n",
       "    </tr>\n",
       "  </tbody>\n",
       "</table>\n",
       "</div>"
      ],
      "text/plain": [
       "                                                Title  \\\n",
       "27       Rusko jako nebezpečí nevnímám, řekla Konečná   \n",
       "36  Neadorujeme Trumpa. Konferenci bych po hajlová...   \n",
       "53         Volby by vyhrálo ANO, Piráti před Stačilo!   \n",
       "\n",
       "                                                 Link Download_Date  Volby  \\\n",
       "27  https://www.novinky.cz/clanek/domaci-rusko-jak...    2025-02-23  False   \n",
       "36  https://www.novinky.cz/clanek/domaci-neadoruje...    2025-02-23  False   \n",
       "53  https://www.novinky.cz/clanek/volby-do-poslane...    2025-02-23   True   \n",
       "\n",
       "      ANO  Piráti  Spolu  Stačilo    SPD   STAN  Motoristé    Person  \n",
       "27  False   False  False    False  False  False      False   Konečná  \n",
       "36  False   False  False    False  False  False      False  Havlíček  \n",
       "53   True    True  False     True  False  False      False       NaN  "
      ]
     },
     "execution_count": 32,
     "metadata": {},
     "output_type": "execute_result"
    }
   ],
   "source": [
    "df.loc[(df[key_words_cols_check].any(axis = 1)) | (df.Person.notna()),:]"
   ]
  },
  {
   "cell_type": "markdown",
   "metadata": {},
   "source": [
    "# 3. Load to the SQL"
   ]
  },
  {
   "cell_type": "code",
   "execution_count": null,
   "metadata": {},
   "outputs": [],
   "source": []
  },
  {
   "cell_type": "code",
   "execution_count": null,
   "metadata": {},
   "outputs": [],
   "source": []
  },
  {
   "cell_type": "code",
   "execution_count": null,
   "metadata": {},
   "outputs": [],
   "source": []
  }
 ],
 "metadata": {
  "kernelspec": {
   "display_name": "Python 3",
   "language": "python",
   "name": "python3"
  },
  "language_info": {
   "codemirror_mode": {
    "name": "ipython",
    "version": 3
   },
   "file_extension": ".py",
   "mimetype": "text/x-python",
   "name": "python",
   "nbconvert_exporter": "python",
   "pygments_lexer": "ipython3",
   "version": "3.12.4"
  }
 },
 "nbformat": 4,
 "nbformat_minor": 2
}
