{
 "cells": [
  {
   "cell_type": "code",
   "execution_count": 1,
   "metadata": {},
   "outputs": [],
   "source": [
    "import pandas as pd\n",
    "import numpy as np\n",
    "from module_folder.classes import WebScraper, SqlManager\n",
    "from module_folder.key_words import key_words, key_person\n",
    "import module_folder.functions as mf\n"
   ]
  },
  {
   "cell_type": "markdown",
   "metadata": {},
   "source": [
    "# 1. Web Scraping"
   ]
  },
  {
   "cell_type": "code",
   "execution_count": 2,
   "metadata": {},
   "outputs": [],
   "source": [
    "web = WebScraper('https://www.novinky.cz/')\n",
    "web.web_reader()\n",
    "web.article_find()\n",
    "df = web.articles_to_df()"
   ]
  },
  {
   "cell_type": "code",
   "execution_count": 3,
   "metadata": {},
   "outputs": [
    {
     "data": {
      "text/html": [
       "<div>\n",
       "<style scoped>\n",
       "    .dataframe tbody tr th:only-of-type {\n",
       "        vertical-align: middle;\n",
       "    }\n",
       "\n",
       "    .dataframe tbody tr th {\n",
       "        vertical-align: top;\n",
       "    }\n",
       "\n",
       "    .dataframe thead th {\n",
       "        text-align: right;\n",
       "    }\n",
       "</style>\n",
       "<table border=\"1\" class=\"dataframe\">\n",
       "  <thead>\n",
       "    <tr style=\"text-align: right;\">\n",
       "      <th></th>\n",
       "      <th>Title</th>\n",
       "      <th>Link</th>\n",
       "      <th>Download_Date</th>\n",
       "    </tr>\n",
       "  </thead>\n",
       "  <tbody>\n",
       "    <tr>\n",
       "      <th>0</th>\n",
       "      <td>Pražské letiště obnoví letecké spojení se Záhř...</td>\n",
       "      <td>https://www.novinky.cz/clanek/cestovani-prazsk...</td>\n",
       "      <td>2025-02-25</td>\n",
       "    </tr>\n",
       "    <tr>\n",
       "      <th>1</th>\n",
       "      <td>TENIS ONLINE: Kvitová odvrátila dva brejkboly ...</td>\n",
       "      <td>https://www.sport.cz/clanek/tenis-kvitova-burr...</td>\n",
       "      <td>2025-02-25</td>\n",
       "    </tr>\n",
       "    <tr>\n",
       "      <th>2</th>\n",
       "      <td>Kde se doma šetřit nevyplácí a řešení, jak na ...</td>\n",
       "      <td>https://www.novinky.cz/clanek/bydleni-kde-se-d...</td>\n",
       "      <td>2025-02-25</td>\n",
       "    </tr>\n",
       "    <tr>\n",
       "      <th>3</th>\n",
       "      <td>Jihokorejci splní podíl českých dodavatelů na ...</td>\n",
       "      <td>https://www.novinky.cz/clanek/ekonomika-khnp-s...</td>\n",
       "      <td>2025-02-25</td>\n",
       "    </tr>\n",
       "    <tr>\n",
       "      <th>4</th>\n",
       "      <td>Rekordně vysoká hrozba srážky Země s asteroide...</td>\n",
       "      <td>https://www.novinky.cz/clanek/veda-skoly-rekor...</td>\n",
       "      <td>2025-02-25</td>\n",
       "    </tr>\n",
       "  </tbody>\n",
       "</table>\n",
       "</div>"
      ],
      "text/plain": [
       "                                               Title  \\\n",
       "0  Pražské letiště obnoví letecké spojení se Záhř...   \n",
       "1  TENIS ONLINE: Kvitová odvrátila dva brejkboly ...   \n",
       "2  Kde se doma šetřit nevyplácí a řešení, jak na ...   \n",
       "3  Jihokorejci splní podíl českých dodavatelů na ...   \n",
       "4  Rekordně vysoká hrozba srážky Země s asteroide...   \n",
       "\n",
       "                                                Link Download_Date  \n",
       "0  https://www.novinky.cz/clanek/cestovani-prazsk...    2025-02-25  \n",
       "1  https://www.sport.cz/clanek/tenis-kvitova-burr...    2025-02-25  \n",
       "2  https://www.novinky.cz/clanek/bydleni-kde-se-d...    2025-02-25  \n",
       "3  https://www.novinky.cz/clanek/ekonomika-khnp-s...    2025-02-25  \n",
       "4  https://www.novinky.cz/clanek/veda-skoly-rekor...    2025-02-25  "
      ]
     },
     "execution_count": 3,
     "metadata": {},
     "output_type": "execute_result"
    }
   ],
   "source": [
    "df.head(5)"
   ]
  },
  {
   "cell_type": "markdown",
   "metadata": {},
   "source": [
    "# 2. DataFrame transformation"
   ]
  },
  {
   "cell_type": "markdown",
   "metadata": {},
   "source": [
    "## 2.1 Keywords and Persons"
   ]
  },
  {
   "cell_type": "code",
   "execution_count": 4,
   "metadata": {},
   "outputs": [
    {
     "data": {
      "text/plain": [
       "['Volby', 'ANO', 'Piráti', 'Spolu', 'Stačilo', 'SPD', 'STAN', 'Motoristé']"
      ]
     },
     "execution_count": 4,
     "metadata": {},
     "output_type": "execute_result"
    }
   ],
   "source": [
    "# Keys from Dict to the list\n",
    "key_words_keys_list = list(key_words.keys())\n",
    "key_words_keys_list"
   ]
  },
  {
   "cell_type": "code",
   "execution_count": 5,
   "metadata": {},
   "outputs": [],
   "source": [
    "# List with keywords as new columns in the DF\n",
    "df[key_words_keys_list] = np.nan"
   ]
  },
  {
   "cell_type": "code",
   "execution_count": 6,
   "metadata": {},
   "outputs": [],
   "source": [
    "# Person as a new columns in the DF\n",
    "df['Person'] = np.nan"
   ]
  },
  {
   "cell_type": "code",
   "execution_count": 7,
   "metadata": {},
   "outputs": [
    {
     "data": {
      "text/html": [
       "<div>\n",
       "<style scoped>\n",
       "    .dataframe tbody tr th:only-of-type {\n",
       "        vertical-align: middle;\n",
       "    }\n",
       "\n",
       "    .dataframe tbody tr th {\n",
       "        vertical-align: top;\n",
       "    }\n",
       "\n",
       "    .dataframe thead th {\n",
       "        text-align: right;\n",
       "    }\n",
       "</style>\n",
       "<table border=\"1\" class=\"dataframe\">\n",
       "  <thead>\n",
       "    <tr style=\"text-align: right;\">\n",
       "      <th></th>\n",
       "      <th>Title</th>\n",
       "      <th>Link</th>\n",
       "      <th>Download_Date</th>\n",
       "      <th>Volby</th>\n",
       "      <th>ANO</th>\n",
       "      <th>Piráti</th>\n",
       "      <th>Spolu</th>\n",
       "      <th>Stačilo</th>\n",
       "      <th>SPD</th>\n",
       "      <th>STAN</th>\n",
       "      <th>Motoristé</th>\n",
       "      <th>Person</th>\n",
       "    </tr>\n",
       "  </thead>\n",
       "  <tbody>\n",
       "    <tr>\n",
       "      <th>0</th>\n",
       "      <td>Pražské letiště obnoví letecké spojení se Záhř...</td>\n",
       "      <td>https://www.novinky.cz/clanek/cestovani-prazsk...</td>\n",
       "      <td>2025-02-25</td>\n",
       "      <td>NaN</td>\n",
       "      <td>NaN</td>\n",
       "      <td>NaN</td>\n",
       "      <td>NaN</td>\n",
       "      <td>NaN</td>\n",
       "      <td>NaN</td>\n",
       "      <td>NaN</td>\n",
       "      <td>NaN</td>\n",
       "      <td>NaN</td>\n",
       "    </tr>\n",
       "    <tr>\n",
       "      <th>1</th>\n",
       "      <td>TENIS ONLINE: Kvitová odvrátila dva brejkboly ...</td>\n",
       "      <td>https://www.sport.cz/clanek/tenis-kvitova-burr...</td>\n",
       "      <td>2025-02-25</td>\n",
       "      <td>NaN</td>\n",
       "      <td>NaN</td>\n",
       "      <td>NaN</td>\n",
       "      <td>NaN</td>\n",
       "      <td>NaN</td>\n",
       "      <td>NaN</td>\n",
       "      <td>NaN</td>\n",
       "      <td>NaN</td>\n",
       "      <td>NaN</td>\n",
       "    </tr>\n",
       "    <tr>\n",
       "      <th>2</th>\n",
       "      <td>Kde se doma šetřit nevyplácí a řešení, jak na ...</td>\n",
       "      <td>https://www.novinky.cz/clanek/bydleni-kde-se-d...</td>\n",
       "      <td>2025-02-25</td>\n",
       "      <td>NaN</td>\n",
       "      <td>NaN</td>\n",
       "      <td>NaN</td>\n",
       "      <td>NaN</td>\n",
       "      <td>NaN</td>\n",
       "      <td>NaN</td>\n",
       "      <td>NaN</td>\n",
       "      <td>NaN</td>\n",
       "      <td>NaN</td>\n",
       "    </tr>\n",
       "    <tr>\n",
       "      <th>3</th>\n",
       "      <td>Jihokorejci splní podíl českých dodavatelů na ...</td>\n",
       "      <td>https://www.novinky.cz/clanek/ekonomika-khnp-s...</td>\n",
       "      <td>2025-02-25</td>\n",
       "      <td>NaN</td>\n",
       "      <td>NaN</td>\n",
       "      <td>NaN</td>\n",
       "      <td>NaN</td>\n",
       "      <td>NaN</td>\n",
       "      <td>NaN</td>\n",
       "      <td>NaN</td>\n",
       "      <td>NaN</td>\n",
       "      <td>NaN</td>\n",
       "    </tr>\n",
       "    <tr>\n",
       "      <th>4</th>\n",
       "      <td>Rekordně vysoká hrozba srážky Země s asteroide...</td>\n",
       "      <td>https://www.novinky.cz/clanek/veda-skoly-rekor...</td>\n",
       "      <td>2025-02-25</td>\n",
       "      <td>NaN</td>\n",
       "      <td>NaN</td>\n",
       "      <td>NaN</td>\n",
       "      <td>NaN</td>\n",
       "      <td>NaN</td>\n",
       "      <td>NaN</td>\n",
       "      <td>NaN</td>\n",
       "      <td>NaN</td>\n",
       "      <td>NaN</td>\n",
       "    </tr>\n",
       "  </tbody>\n",
       "</table>\n",
       "</div>"
      ],
      "text/plain": [
       "                                               Title  \\\n",
       "0  Pražské letiště obnoví letecké spojení se Záhř...   \n",
       "1  TENIS ONLINE: Kvitová odvrátila dva brejkboly ...   \n",
       "2  Kde se doma šetřit nevyplácí a řešení, jak na ...   \n",
       "3  Jihokorejci splní podíl českých dodavatelů na ...   \n",
       "4  Rekordně vysoká hrozba srážky Země s asteroide...   \n",
       "\n",
       "                                                Link Download_Date  Volby  \\\n",
       "0  https://www.novinky.cz/clanek/cestovani-prazsk...    2025-02-25    NaN   \n",
       "1  https://www.sport.cz/clanek/tenis-kvitova-burr...    2025-02-25    NaN   \n",
       "2  https://www.novinky.cz/clanek/bydleni-kde-se-d...    2025-02-25    NaN   \n",
       "3  https://www.novinky.cz/clanek/ekonomika-khnp-s...    2025-02-25    NaN   \n",
       "4  https://www.novinky.cz/clanek/veda-skoly-rekor...    2025-02-25    NaN   \n",
       "\n",
       "   ANO  Piráti  Spolu  Stačilo  SPD  STAN  Motoristé  Person  \n",
       "0  NaN     NaN    NaN      NaN  NaN   NaN        NaN     NaN  \n",
       "1  NaN     NaN    NaN      NaN  NaN   NaN        NaN     NaN  \n",
       "2  NaN     NaN    NaN      NaN  NaN   NaN        NaN     NaN  \n",
       "3  NaN     NaN    NaN      NaN  NaN   NaN        NaN     NaN  \n",
       "4  NaN     NaN    NaN      NaN  NaN   NaN        NaN     NaN  "
      ]
     },
     "execution_count": 7,
     "metadata": {},
     "output_type": "execute_result"
    }
   ],
   "source": [
    "df.head(5)"
   ]
  },
  {
   "cell_type": "markdown",
   "metadata": {},
   "source": [
    "## 2.2 Data Transformation "
   ]
  },
  {
   "cell_type": "markdown",
   "metadata": {},
   "source": [
    "### 2.2.1 Columns Dtypes"
   ]
  },
  {
   "cell_type": "code",
   "execution_count": 8,
   "metadata": {},
   "outputs": [
    {
     "data": {
      "text/plain": [
       "Title             object\n",
       "Link              object\n",
       "Download_Date     object\n",
       "Volby            float64\n",
       "ANO              float64\n",
       "Piráti           float64\n",
       "Spolu            float64\n",
       "Stačilo          float64\n",
       "SPD              float64\n",
       "STAN             float64\n",
       "Motoristé        float64\n",
       "Person           float64\n",
       "dtype: object"
      ]
     },
     "execution_count": 8,
     "metadata": {},
     "output_type": "execute_result"
    }
   ],
   "source": [
    "df.dtypes"
   ]
  },
  {
   "cell_type": "code",
   "execution_count": 9,
   "metadata": {},
   "outputs": [
    {
     "data": {
      "text/plain": [
       "['Title', 'Link', 'Download_Date']"
      ]
     },
     "execution_count": 9,
     "metadata": {},
     "output_type": "execute_result"
    }
   ],
   "source": [
    "#Object Cols\n",
    "object_cols_list = mf.object_cols(df)\n",
    "object_cols_list"
   ]
  },
  {
   "cell_type": "code",
   "execution_count": 10,
   "metadata": {},
   "outputs": [
    {
     "data": {
      "text/plain": [
       "['Volby',\n",
       " 'ANO',\n",
       " 'Piráti',\n",
       " 'Spolu',\n",
       " 'Stačilo',\n",
       " 'SPD',\n",
       " 'STAN',\n",
       " 'Motoristé',\n",
       " 'Person']"
      ]
     },
     "execution_count": 10,
     "metadata": {},
     "output_type": "execute_result"
    }
   ],
   "source": [
    "#Float Cols\n",
    "float_cols_list = mf.float_cols(df)\n",
    "float_cols_list"
   ]
  },
  {
   "cell_type": "code",
   "execution_count": 11,
   "metadata": {},
   "outputs": [
    {
     "data": {
      "text/plain": [
       "[]"
      ]
     },
     "execution_count": 11,
     "metadata": {},
     "output_type": "execute_result"
    }
   ],
   "source": [
    "#Int cols\n",
    "int_cols_list = mf.int_cols(df)\n",
    "int_cols_list\n"
   ]
  },
  {
   "cell_type": "code",
   "execution_count": 12,
   "metadata": {},
   "outputs": [
    {
     "data": {
      "text/plain": [
       "[]"
      ]
     },
     "execution_count": 12,
     "metadata": {},
     "output_type": "execute_result"
    }
   ],
   "source": [
    "#Bools cols\n",
    "bool_cols_list = mf.bool_cols(df)\n",
    "bool_cols_list"
   ]
  },
  {
   "cell_type": "code",
   "execution_count": 13,
   "metadata": {},
   "outputs": [
    {
     "data": {
      "text/plain": [
       "[]"
      ]
     },
     "execution_count": 13,
     "metadata": {},
     "output_type": "execute_result"
    }
   ],
   "source": [
    "#Datetime cols\n",
    "datetime_cols_list = mf.datetime_cols(df)\n",
    "datetime_cols_list"
   ]
  },
  {
   "cell_type": "code",
   "execution_count": 14,
   "metadata": {},
   "outputs": [],
   "source": [
    "#Change to string\n",
    "mf.cols_to_string(df,['Title','Link','Person'])"
   ]
  },
  {
   "cell_type": "code",
   "execution_count": 15,
   "metadata": {},
   "outputs": [],
   "source": [
    "#Change to bool\n",
    "mf.cols_to_bool(df,['Volby',\n",
    " 'ANO',\n",
    " 'Piráti',\n",
    " 'Spolu',\n",
    " 'Stačilo',\n",
    " 'SPD',\n",
    " 'STAN',\n",
    " 'Motoristé'])"
   ]
  },
  {
   "cell_type": "code",
   "execution_count": 16,
   "metadata": {},
   "outputs": [],
   "source": [
    "#Change to datetime\n",
    "mf.cols_to_datetime(df,['Download_Date'])"
   ]
  },
  {
   "cell_type": "code",
   "execution_count": 17,
   "metadata": {},
   "outputs": [
    {
     "data": {
      "text/plain": [
       "Title            string[python]\n",
       "Link             string[python]\n",
       "Download_Date    datetime64[ns]\n",
       "Volby                   boolean\n",
       "ANO                     boolean\n",
       "Piráti                  boolean\n",
       "Spolu                   boolean\n",
       "Stačilo                 boolean\n",
       "SPD                     boolean\n",
       "STAN                    boolean\n",
       "Motoristé               boolean\n",
       "Person           string[python]\n",
       "dtype: object"
      ]
     },
     "execution_count": 17,
     "metadata": {},
     "output_type": "execute_result"
    }
   ],
   "source": [
    "df.dtypes"
   ]
  },
  {
   "cell_type": "code",
   "execution_count": 18,
   "metadata": {},
   "outputs": [
    {
     "data": {
      "text/html": [
       "<div>\n",
       "<style scoped>\n",
       "    .dataframe tbody tr th:only-of-type {\n",
       "        vertical-align: middle;\n",
       "    }\n",
       "\n",
       "    .dataframe tbody tr th {\n",
       "        vertical-align: top;\n",
       "    }\n",
       "\n",
       "    .dataframe thead th {\n",
       "        text-align: right;\n",
       "    }\n",
       "</style>\n",
       "<table border=\"1\" class=\"dataframe\">\n",
       "  <thead>\n",
       "    <tr style=\"text-align: right;\">\n",
       "      <th></th>\n",
       "      <th>Title</th>\n",
       "      <th>Link</th>\n",
       "      <th>Download_Date</th>\n",
       "      <th>Volby</th>\n",
       "      <th>ANO</th>\n",
       "      <th>Piráti</th>\n",
       "      <th>Spolu</th>\n",
       "      <th>Stačilo</th>\n",
       "      <th>SPD</th>\n",
       "      <th>STAN</th>\n",
       "      <th>Motoristé</th>\n",
       "      <th>Person</th>\n",
       "    </tr>\n",
       "  </thead>\n",
       "  <tbody>\n",
       "    <tr>\n",
       "      <th>0</th>\n",
       "      <td>Pražské letiště obnoví letecké spojení se Záhř...</td>\n",
       "      <td>https://www.novinky.cz/clanek/cestovani-prazsk...</td>\n",
       "      <td>2025-02-25</td>\n",
       "      <td>&lt;NA&gt;</td>\n",
       "      <td>&lt;NA&gt;</td>\n",
       "      <td>&lt;NA&gt;</td>\n",
       "      <td>&lt;NA&gt;</td>\n",
       "      <td>&lt;NA&gt;</td>\n",
       "      <td>&lt;NA&gt;</td>\n",
       "      <td>&lt;NA&gt;</td>\n",
       "      <td>&lt;NA&gt;</td>\n",
       "      <td>&lt;NA&gt;</td>\n",
       "    </tr>\n",
       "    <tr>\n",
       "      <th>1</th>\n",
       "      <td>TENIS ONLINE: Kvitová odvrátila dva brejkboly ...</td>\n",
       "      <td>https://www.sport.cz/clanek/tenis-kvitova-burr...</td>\n",
       "      <td>2025-02-25</td>\n",
       "      <td>&lt;NA&gt;</td>\n",
       "      <td>&lt;NA&gt;</td>\n",
       "      <td>&lt;NA&gt;</td>\n",
       "      <td>&lt;NA&gt;</td>\n",
       "      <td>&lt;NA&gt;</td>\n",
       "      <td>&lt;NA&gt;</td>\n",
       "      <td>&lt;NA&gt;</td>\n",
       "      <td>&lt;NA&gt;</td>\n",
       "      <td>&lt;NA&gt;</td>\n",
       "    </tr>\n",
       "    <tr>\n",
       "      <th>2</th>\n",
       "      <td>Kde se doma šetřit nevyplácí a řešení, jak na ...</td>\n",
       "      <td>https://www.novinky.cz/clanek/bydleni-kde-se-d...</td>\n",
       "      <td>2025-02-25</td>\n",
       "      <td>&lt;NA&gt;</td>\n",
       "      <td>&lt;NA&gt;</td>\n",
       "      <td>&lt;NA&gt;</td>\n",
       "      <td>&lt;NA&gt;</td>\n",
       "      <td>&lt;NA&gt;</td>\n",
       "      <td>&lt;NA&gt;</td>\n",
       "      <td>&lt;NA&gt;</td>\n",
       "      <td>&lt;NA&gt;</td>\n",
       "      <td>&lt;NA&gt;</td>\n",
       "    </tr>\n",
       "    <tr>\n",
       "      <th>3</th>\n",
       "      <td>Jihokorejci splní podíl českých dodavatelů na ...</td>\n",
       "      <td>https://www.novinky.cz/clanek/ekonomika-khnp-s...</td>\n",
       "      <td>2025-02-25</td>\n",
       "      <td>&lt;NA&gt;</td>\n",
       "      <td>&lt;NA&gt;</td>\n",
       "      <td>&lt;NA&gt;</td>\n",
       "      <td>&lt;NA&gt;</td>\n",
       "      <td>&lt;NA&gt;</td>\n",
       "      <td>&lt;NA&gt;</td>\n",
       "      <td>&lt;NA&gt;</td>\n",
       "      <td>&lt;NA&gt;</td>\n",
       "      <td>&lt;NA&gt;</td>\n",
       "    </tr>\n",
       "    <tr>\n",
       "      <th>4</th>\n",
       "      <td>Rekordně vysoká hrozba srážky Země s asteroide...</td>\n",
       "      <td>https://www.novinky.cz/clanek/veda-skoly-rekor...</td>\n",
       "      <td>2025-02-25</td>\n",
       "      <td>&lt;NA&gt;</td>\n",
       "      <td>&lt;NA&gt;</td>\n",
       "      <td>&lt;NA&gt;</td>\n",
       "      <td>&lt;NA&gt;</td>\n",
       "      <td>&lt;NA&gt;</td>\n",
       "      <td>&lt;NA&gt;</td>\n",
       "      <td>&lt;NA&gt;</td>\n",
       "      <td>&lt;NA&gt;</td>\n",
       "      <td>&lt;NA&gt;</td>\n",
       "    </tr>\n",
       "  </tbody>\n",
       "</table>\n",
       "</div>"
      ],
      "text/plain": [
       "                                               Title  \\\n",
       "0  Pražské letiště obnoví letecké spojení se Záhř...   \n",
       "1  TENIS ONLINE: Kvitová odvrátila dva brejkboly ...   \n",
       "2  Kde se doma šetřit nevyplácí a řešení, jak na ...   \n",
       "3  Jihokorejci splní podíl českých dodavatelů na ...   \n",
       "4  Rekordně vysoká hrozba srážky Země s asteroide...   \n",
       "\n",
       "                                                Link Download_Date  Volby  \\\n",
       "0  https://www.novinky.cz/clanek/cestovani-prazsk...    2025-02-25   <NA>   \n",
       "1  https://www.sport.cz/clanek/tenis-kvitova-burr...    2025-02-25   <NA>   \n",
       "2  https://www.novinky.cz/clanek/bydleni-kde-se-d...    2025-02-25   <NA>   \n",
       "3  https://www.novinky.cz/clanek/ekonomika-khnp-s...    2025-02-25   <NA>   \n",
       "4  https://www.novinky.cz/clanek/veda-skoly-rekor...    2025-02-25   <NA>   \n",
       "\n",
       "    ANO  Piráti  Spolu  Stačilo   SPD  STAN  Motoristé Person  \n",
       "0  <NA>    <NA>   <NA>     <NA>  <NA>  <NA>       <NA>   <NA>  \n",
       "1  <NA>    <NA>   <NA>     <NA>  <NA>  <NA>       <NA>   <NA>  \n",
       "2  <NA>    <NA>   <NA>     <NA>  <NA>  <NA>       <NA>   <NA>  \n",
       "3  <NA>    <NA>   <NA>     <NA>  <NA>  <NA>       <NA>   <NA>  \n",
       "4  <NA>    <NA>   <NA>     <NA>  <NA>  <NA>       <NA>   <NA>  "
      ]
     },
     "execution_count": 18,
     "metadata": {},
     "output_type": "execute_result"
    }
   ],
   "source": [
    "df.head(5)"
   ]
  },
  {
   "cell_type": "markdown",
   "metadata": {},
   "source": [
    "### 2.2.2 True/False Keywords and Persons\n",
    "\n"
   ]
  },
  {
   "cell_type": "code",
   "execution_count": 19,
   "metadata": {},
   "outputs": [],
   "source": [
    "key_words_cols_check = ['Volby',\n",
    " 'ANO',\n",
    " 'Piráti',\n",
    " 'Spolu',\n",
    " 'Stačilo',\n",
    " 'SPD',\n",
    " 'STAN',\n",
    " 'Motoristé']"
   ]
  },
  {
   "cell_type": "code",
   "execution_count": 20,
   "metadata": {},
   "outputs": [],
   "source": [
    "# function for keywords check\n",
    "def check_keyword(title, keywords):\n",
    "    for word in keywords:\n",
    "        if word in title:\n",
    "            return True\n",
    "    return False\n"
   ]
  },
  {
   "cell_type": "code",
   "execution_count": 21,
   "metadata": {},
   "outputs": [],
   "source": [
    "# keyford check function application\n",
    "for col in df[key_words_cols_check]:\n",
    "    df[col] = df['Title'].apply(lambda x : check_keyword(x,key_words[col]))"
   ]
  },
  {
   "cell_type": "code",
   "execution_count": 22,
   "metadata": {},
   "outputs": [],
   "source": [
    "# function for person check\n",
    "def check_person(title, persons):\n",
    "    person_list = []\n",
    "    for person in persons:\n",
    "        if person in title:\n",
    "            person_list.append(person)\n",
    "    if person_list:\n",
    "        return \", \".join(person_list)\n",
    "    else:\n",
    "        return np.nan\n",
    "    \n"
   ]
  },
  {
   "cell_type": "code",
   "execution_count": 23,
   "metadata": {},
   "outputs": [],
   "source": [
    "# fucntion person check application\n",
    "df['Person'] = df['Title'].apply(lambda x: check_person(x,key_person))"
   ]
  },
  {
   "cell_type": "code",
   "execution_count": 24,
   "metadata": {},
   "outputs": [
    {
     "data": {
      "text/html": [
       "<div>\n",
       "<style scoped>\n",
       "    .dataframe tbody tr th:only-of-type {\n",
       "        vertical-align: middle;\n",
       "    }\n",
       "\n",
       "    .dataframe tbody tr th {\n",
       "        vertical-align: top;\n",
       "    }\n",
       "\n",
       "    .dataframe thead th {\n",
       "        text-align: right;\n",
       "    }\n",
       "</style>\n",
       "<table border=\"1\" class=\"dataframe\">\n",
       "  <thead>\n",
       "    <tr style=\"text-align: right;\">\n",
       "      <th></th>\n",
       "      <th>Title</th>\n",
       "      <th>Link</th>\n",
       "      <th>Download_Date</th>\n",
       "      <th>Volby</th>\n",
       "      <th>ANO</th>\n",
       "      <th>Piráti</th>\n",
       "      <th>Spolu</th>\n",
       "      <th>Stačilo</th>\n",
       "      <th>SPD</th>\n",
       "      <th>STAN</th>\n",
       "      <th>Motoristé</th>\n",
       "      <th>Person</th>\n",
       "    </tr>\n",
       "  </thead>\n",
       "  <tbody>\n",
       "    <tr>\n",
       "      <th>43</th>\n",
       "      <td>Pirát silnic tvrdil, že spěchá do práce, přito...</td>\n",
       "      <td>https://www.novinky.cz/clanek/krimi-pirat-siln...</td>\n",
       "      <td>2025-02-25</td>\n",
       "      <td>False</td>\n",
       "      <td>False</td>\n",
       "      <td>True</td>\n",
       "      <td>False</td>\n",
       "      <td>False</td>\n",
       "      <td>False</td>\n",
       "      <td>False</td>\n",
       "      <td>False</td>\n",
       "      <td>NaN</td>\n",
       "    </tr>\n",
       "    <tr>\n",
       "      <th>45</th>\n",
       "      <td>Nesedněte podvodníkům na lep. Tyto Novinky.cz ...</td>\n",
       "      <td>https://www.novinky.cz/clanek/internet-a-pc-be...</td>\n",
       "      <td>2025-02-25</td>\n",
       "      <td>False</td>\n",
       "      <td>False</td>\n",
       "      <td>False</td>\n",
       "      <td>False</td>\n",
       "      <td>False</td>\n",
       "      <td>False</td>\n",
       "      <td>False</td>\n",
       "      <td>False</td>\n",
       "      <td>Babiš</td>\n",
       "    </tr>\n",
       "  </tbody>\n",
       "</table>\n",
       "</div>"
      ],
      "text/plain": [
       "                                                Title  \\\n",
       "43  Pirát silnic tvrdil, že spěchá do práce, přito...   \n",
       "45  Nesedněte podvodníkům na lep. Tyto Novinky.cz ...   \n",
       "\n",
       "                                                 Link Download_Date  Volby  \\\n",
       "43  https://www.novinky.cz/clanek/krimi-pirat-siln...    2025-02-25  False   \n",
       "45  https://www.novinky.cz/clanek/internet-a-pc-be...    2025-02-25  False   \n",
       "\n",
       "      ANO  Piráti  Spolu  Stačilo    SPD   STAN  Motoristé Person  \n",
       "43  False    True  False    False  False  False      False    NaN  \n",
       "45  False   False  False    False  False  False      False  Babiš  "
      ]
     },
     "execution_count": 24,
     "metadata": {},
     "output_type": "execute_result"
    }
   ],
   "source": [
    "df.loc[(df[key_words_cols_check].any(axis = 1)) | (df.Person.notna()),:]"
   ]
  },
  {
   "cell_type": "markdown",
   "metadata": {},
   "source": [
    "# 3. Load to the SQL"
   ]
  },
  {
   "cell_type": "code",
   "execution_count": 25,
   "metadata": {},
   "outputs": [],
   "source": [
    "sql_manager = SqlManager(server='DELL_ONDRA\\\\SQLEXPRESS', database= 'WebScraping', odbc_driver='ODBC Driver 17 for SQL Server')"
   ]
  },
  {
   "cell_type": "code",
   "execution_count": 26,
   "metadata": {},
   "outputs": [
    {
     "name": "stdout",
     "output_type": "stream",
     "text": [
      "Successfully connected\n"
     ]
    }
   ],
   "source": [
    "engine = sql_manager.connect()"
   ]
  },
  {
   "cell_type": "code",
   "execution_count": 27,
   "metadata": {},
   "outputs": [
    {
     "name": "stdout",
     "output_type": "stream",
     "text": [
      "Table already exists, please select another method (Append, Overwrite, Truncate)\n"
     ]
    }
   ],
   "source": [
    "sql_manager.create_table(table_name= 'WebScraping_history', database='WebScraping',data_frame=df)"
   ]
  },
  {
   "cell_type": "code",
   "execution_count": null,
   "metadata": {},
   "outputs": [],
   "source": [
    "sql_manager.disconnect()"
   ]
  }
 ],
 "metadata": {
  "kernelspec": {
   "display_name": "Python 3",
   "language": "python",
   "name": "python3"
  },
  "language_info": {
   "codemirror_mode": {
    "name": "ipython",
    "version": 3
   },
   "file_extension": ".py",
   "mimetype": "text/x-python",
   "name": "python",
   "nbconvert_exporter": "python",
   "pygments_lexer": "ipython3",
   "version": "3.12.4"
  }
 },
 "nbformat": 4,
 "nbformat_minor": 2
}
