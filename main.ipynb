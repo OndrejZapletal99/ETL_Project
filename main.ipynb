{
 "cells": [
  {
   "cell_type": "code",
   "execution_count": 1,
   "metadata": {},
   "outputs": [],
   "source": [
    "import pandas as pd\n",
    "import numpy as np\n",
    "import re\n",
    "from module_folder.classes import WebScraper, SqlManager\n",
    "from module_folder.key_words import key_words, key_person\n",
    "import module_folder.functions as mf\n"
   ]
  },
  {
   "cell_type": "markdown",
   "metadata": {},
   "source": [
    "# 1. Web Scraping"
   ]
  },
  {
   "cell_type": "code",
   "execution_count": 2,
   "metadata": {},
   "outputs": [],
   "source": [
    "web = WebScraper('https://www.novinky.cz/')\n",
    "web.web_reader()\n",
    "web.article_find()\n",
    "df = web.articles_to_df()"
   ]
  },
  {
   "cell_type": "code",
   "execution_count": 3,
   "metadata": {},
   "outputs": [
    {
     "data": {
      "text/html": [
       "<div>\n",
       "<style scoped>\n",
       "    .dataframe tbody tr th:only-of-type {\n",
       "        vertical-align: middle;\n",
       "    }\n",
       "\n",
       "    .dataframe tbody tr th {\n",
       "        vertical-align: top;\n",
       "    }\n",
       "\n",
       "    .dataframe thead th {\n",
       "        text-align: right;\n",
       "    }\n",
       "</style>\n",
       "<table border=\"1\" class=\"dataframe\">\n",
       "  <thead>\n",
       "    <tr style=\"text-align: right;\">\n",
       "      <th></th>\n",
       "      <th>Title</th>\n",
       "      <th>Link</th>\n",
       "      <th>Download_Date</th>\n",
       "    </tr>\n",
       "  </thead>\n",
       "  <tbody>\n",
       "    <tr>\n",
       "      <th>0</th>\n",
       "      <td>Kanaďané hromadně bojkotují americké zboží</td>\n",
       "      <td>https://www.novinky.cz/clanek/ekonomika-kanada...</td>\n",
       "      <td>2025-03-05</td>\n",
       "    </tr>\n",
       "    <tr>\n",
       "      <th>1</th>\n",
       "      <td>Česká kolaborantská ostuda. Výrostci z dobrovo...</td>\n",
       "      <td>https://www.novinky.cz/clanek/historie-druha-s...</td>\n",
       "      <td>2025-03-05</td>\n",
       "    </tr>\n",
       "    <tr>\n",
       "      <th>2</th>\n",
       "      <td>Trump urazil Lesotho</td>\n",
       "      <td>https://www.novinky.cz/clanek/zahranicni-ameri...</td>\n",
       "      <td>2025-03-05</td>\n",
       "    </tr>\n",
       "    <tr>\n",
       "      <th>3</th>\n",
       "      <td>KOMENTÁŘ: Bílý dům dal ránu do zad - Alex Švam...</td>\n",
       "      <td>https://www.novinky.cz/clanek/komentare-koment...</td>\n",
       "      <td>2025-03-05</td>\n",
       "    </tr>\n",
       "    <tr>\n",
       "      <th>4</th>\n",
       "      <td>Armády NATO nejsou připravené na dronovou válk...</td>\n",
       "      <td>https://www.novinky.cz/clanek/valka-na-ukrajin...</td>\n",
       "      <td>2025-03-05</td>\n",
       "    </tr>\n",
       "  </tbody>\n",
       "</table>\n",
       "</div>"
      ],
      "text/plain": [
       "                                               Title  \\\n",
       "0         Kanaďané hromadně bojkotují americké zboží   \n",
       "1  Česká kolaborantská ostuda. Výrostci z dobrovo...   \n",
       "2                               Trump urazil Lesotho   \n",
       "3  KOMENTÁŘ: Bílý dům dal ránu do zad - Alex Švam...   \n",
       "4  Armády NATO nejsou připravené na dronovou válk...   \n",
       "\n",
       "                                                Link Download_Date  \n",
       "0  https://www.novinky.cz/clanek/ekonomika-kanada...    2025-03-05  \n",
       "1  https://www.novinky.cz/clanek/historie-druha-s...    2025-03-05  \n",
       "2  https://www.novinky.cz/clanek/zahranicni-ameri...    2025-03-05  \n",
       "3  https://www.novinky.cz/clanek/komentare-koment...    2025-03-05  \n",
       "4  https://www.novinky.cz/clanek/valka-na-ukrajin...    2025-03-05  "
      ]
     },
     "execution_count": 3,
     "metadata": {},
     "output_type": "execute_result"
    }
   ],
   "source": [
    "df.head(5)"
   ]
  },
  {
   "cell_type": "markdown",
   "metadata": {},
   "source": [
    "# 2. DataFrame transformation"
   ]
  },
  {
   "cell_type": "markdown",
   "metadata": {},
   "source": [
    "## 2.1 Keywords and Persons"
   ]
  },
  {
   "cell_type": "code",
   "execution_count": 4,
   "metadata": {},
   "outputs": [
    {
     "data": {
      "text/plain": [
       "['Volby',\n",
       " 'ANO',\n",
       " 'Piráti',\n",
       " 'Spolu',\n",
       " 'Stačilo',\n",
       " 'SPD',\n",
       " 'STAN',\n",
       " 'Motoristé',\n",
       " 'Válka_na_Ukrajině']"
      ]
     },
     "execution_count": 4,
     "metadata": {},
     "output_type": "execute_result"
    }
   ],
   "source": [
    "# Keys from Dict to the list\n",
    "key_words_keys_list = list(key_words.keys())\n",
    "key_words_keys_list"
   ]
  },
  {
   "cell_type": "code",
   "execution_count": 5,
   "metadata": {},
   "outputs": [],
   "source": [
    "# List with keywords as new columns in the DF\n",
    "df[key_words_keys_list] = np.nan"
   ]
  },
  {
   "cell_type": "code",
   "execution_count": 6,
   "metadata": {},
   "outputs": [],
   "source": [
    "# Person as a new columns in the DF\n",
    "df['Person'] = np.nan"
   ]
  },
  {
   "cell_type": "code",
   "execution_count": 7,
   "metadata": {},
   "outputs": [
    {
     "data": {
      "text/html": [
       "<div>\n",
       "<style scoped>\n",
       "    .dataframe tbody tr th:only-of-type {\n",
       "        vertical-align: middle;\n",
       "    }\n",
       "\n",
       "    .dataframe tbody tr th {\n",
       "        vertical-align: top;\n",
       "    }\n",
       "\n",
       "    .dataframe thead th {\n",
       "        text-align: right;\n",
       "    }\n",
       "</style>\n",
       "<table border=\"1\" class=\"dataframe\">\n",
       "  <thead>\n",
       "    <tr style=\"text-align: right;\">\n",
       "      <th></th>\n",
       "      <th>Title</th>\n",
       "      <th>Link</th>\n",
       "      <th>Download_Date</th>\n",
       "      <th>Volby</th>\n",
       "      <th>ANO</th>\n",
       "      <th>Piráti</th>\n",
       "      <th>Spolu</th>\n",
       "      <th>Stačilo</th>\n",
       "      <th>SPD</th>\n",
       "      <th>STAN</th>\n",
       "      <th>Motoristé</th>\n",
       "      <th>Válka_na_Ukrajině</th>\n",
       "      <th>Person</th>\n",
       "    </tr>\n",
       "  </thead>\n",
       "  <tbody>\n",
       "    <tr>\n",
       "      <th>0</th>\n",
       "      <td>Kanaďané hromadně bojkotují americké zboží</td>\n",
       "      <td>https://www.novinky.cz/clanek/ekonomika-kanada...</td>\n",
       "      <td>2025-03-05</td>\n",
       "      <td>NaN</td>\n",
       "      <td>NaN</td>\n",
       "      <td>NaN</td>\n",
       "      <td>NaN</td>\n",
       "      <td>NaN</td>\n",
       "      <td>NaN</td>\n",
       "      <td>NaN</td>\n",
       "      <td>NaN</td>\n",
       "      <td>NaN</td>\n",
       "      <td>NaN</td>\n",
       "    </tr>\n",
       "    <tr>\n",
       "      <th>1</th>\n",
       "      <td>Česká kolaborantská ostuda. Výrostci z dobrovo...</td>\n",
       "      <td>https://www.novinky.cz/clanek/historie-druha-s...</td>\n",
       "      <td>2025-03-05</td>\n",
       "      <td>NaN</td>\n",
       "      <td>NaN</td>\n",
       "      <td>NaN</td>\n",
       "      <td>NaN</td>\n",
       "      <td>NaN</td>\n",
       "      <td>NaN</td>\n",
       "      <td>NaN</td>\n",
       "      <td>NaN</td>\n",
       "      <td>NaN</td>\n",
       "      <td>NaN</td>\n",
       "    </tr>\n",
       "    <tr>\n",
       "      <th>2</th>\n",
       "      <td>Trump urazil Lesotho</td>\n",
       "      <td>https://www.novinky.cz/clanek/zahranicni-ameri...</td>\n",
       "      <td>2025-03-05</td>\n",
       "      <td>NaN</td>\n",
       "      <td>NaN</td>\n",
       "      <td>NaN</td>\n",
       "      <td>NaN</td>\n",
       "      <td>NaN</td>\n",
       "      <td>NaN</td>\n",
       "      <td>NaN</td>\n",
       "      <td>NaN</td>\n",
       "      <td>NaN</td>\n",
       "      <td>NaN</td>\n",
       "    </tr>\n",
       "    <tr>\n",
       "      <th>3</th>\n",
       "      <td>KOMENTÁŘ: Bílý dům dal ránu do zad - Alex Švam...</td>\n",
       "      <td>https://www.novinky.cz/clanek/komentare-koment...</td>\n",
       "      <td>2025-03-05</td>\n",
       "      <td>NaN</td>\n",
       "      <td>NaN</td>\n",
       "      <td>NaN</td>\n",
       "      <td>NaN</td>\n",
       "      <td>NaN</td>\n",
       "      <td>NaN</td>\n",
       "      <td>NaN</td>\n",
       "      <td>NaN</td>\n",
       "      <td>NaN</td>\n",
       "      <td>NaN</td>\n",
       "    </tr>\n",
       "    <tr>\n",
       "      <th>4</th>\n",
       "      <td>Armády NATO nejsou připravené na dronovou válk...</td>\n",
       "      <td>https://www.novinky.cz/clanek/valka-na-ukrajin...</td>\n",
       "      <td>2025-03-05</td>\n",
       "      <td>NaN</td>\n",
       "      <td>NaN</td>\n",
       "      <td>NaN</td>\n",
       "      <td>NaN</td>\n",
       "      <td>NaN</td>\n",
       "      <td>NaN</td>\n",
       "      <td>NaN</td>\n",
       "      <td>NaN</td>\n",
       "      <td>NaN</td>\n",
       "      <td>NaN</td>\n",
       "    </tr>\n",
       "  </tbody>\n",
       "</table>\n",
       "</div>"
      ],
      "text/plain": [
       "                                               Title  \\\n",
       "0         Kanaďané hromadně bojkotují americké zboží   \n",
       "1  Česká kolaborantská ostuda. Výrostci z dobrovo...   \n",
       "2                               Trump urazil Lesotho   \n",
       "3  KOMENTÁŘ: Bílý dům dal ránu do zad - Alex Švam...   \n",
       "4  Armády NATO nejsou připravené na dronovou válk...   \n",
       "\n",
       "                                                Link Download_Date  Volby  \\\n",
       "0  https://www.novinky.cz/clanek/ekonomika-kanada...    2025-03-05    NaN   \n",
       "1  https://www.novinky.cz/clanek/historie-druha-s...    2025-03-05    NaN   \n",
       "2  https://www.novinky.cz/clanek/zahranicni-ameri...    2025-03-05    NaN   \n",
       "3  https://www.novinky.cz/clanek/komentare-koment...    2025-03-05    NaN   \n",
       "4  https://www.novinky.cz/clanek/valka-na-ukrajin...    2025-03-05    NaN   \n",
       "\n",
       "   ANO  Piráti  Spolu  Stačilo  SPD  STAN  Motoristé  Válka_na_Ukrajině  \\\n",
       "0  NaN     NaN    NaN      NaN  NaN   NaN        NaN                NaN   \n",
       "1  NaN     NaN    NaN      NaN  NaN   NaN        NaN                NaN   \n",
       "2  NaN     NaN    NaN      NaN  NaN   NaN        NaN                NaN   \n",
       "3  NaN     NaN    NaN      NaN  NaN   NaN        NaN                NaN   \n",
       "4  NaN     NaN    NaN      NaN  NaN   NaN        NaN                NaN   \n",
       "\n",
       "   Person  \n",
       "0     NaN  \n",
       "1     NaN  \n",
       "2     NaN  \n",
       "3     NaN  \n",
       "4     NaN  "
      ]
     },
     "execution_count": 7,
     "metadata": {},
     "output_type": "execute_result"
    }
   ],
   "source": [
    "df.head(5)"
   ]
  },
  {
   "cell_type": "markdown",
   "metadata": {},
   "source": [
    "## 2.2 Data Transformation "
   ]
  },
  {
   "cell_type": "markdown",
   "metadata": {},
   "source": [
    "### 2.2.1 Columns Dtypes"
   ]
  },
  {
   "cell_type": "code",
   "execution_count": 8,
   "metadata": {},
   "outputs": [
    {
     "data": {
      "text/plain": [
       "Title                 object\n",
       "Link                  object\n",
       "Download_Date         object\n",
       "Volby                float64\n",
       "ANO                  float64\n",
       "Piráti               float64\n",
       "Spolu                float64\n",
       "Stačilo              float64\n",
       "SPD                  float64\n",
       "STAN                 float64\n",
       "Motoristé            float64\n",
       "Válka_na_Ukrajině    float64\n",
       "Person               float64\n",
       "dtype: object"
      ]
     },
     "execution_count": 8,
     "metadata": {},
     "output_type": "execute_result"
    }
   ],
   "source": [
    "df.dtypes"
   ]
  },
  {
   "cell_type": "code",
   "execution_count": 9,
   "metadata": {},
   "outputs": [
    {
     "data": {
      "text/plain": [
       "['Title', 'Link', 'Download_Date']"
      ]
     },
     "execution_count": 9,
     "metadata": {},
     "output_type": "execute_result"
    }
   ],
   "source": [
    "#Object Cols\n",
    "object_cols_list = mf.object_cols(df)\n",
    "object_cols_list"
   ]
  },
  {
   "cell_type": "code",
   "execution_count": 10,
   "metadata": {},
   "outputs": [
    {
     "data": {
      "text/plain": [
       "['Volby',\n",
       " 'ANO',\n",
       " 'Piráti',\n",
       " 'Spolu',\n",
       " 'Stačilo',\n",
       " 'SPD',\n",
       " 'STAN',\n",
       " 'Motoristé',\n",
       " 'Válka_na_Ukrajině',\n",
       " 'Person']"
      ]
     },
     "execution_count": 10,
     "metadata": {},
     "output_type": "execute_result"
    }
   ],
   "source": [
    "#Float Cols\n",
    "float_cols_list = mf.float_cols(df)\n",
    "float_cols_list"
   ]
  },
  {
   "cell_type": "code",
   "execution_count": 11,
   "metadata": {},
   "outputs": [
    {
     "data": {
      "text/plain": [
       "[]"
      ]
     },
     "execution_count": 11,
     "metadata": {},
     "output_type": "execute_result"
    }
   ],
   "source": [
    "#Int cols\n",
    "int_cols_list = mf.int_cols(df)\n",
    "int_cols_list\n"
   ]
  },
  {
   "cell_type": "code",
   "execution_count": 12,
   "metadata": {},
   "outputs": [
    {
     "data": {
      "text/plain": [
       "[]"
      ]
     },
     "execution_count": 12,
     "metadata": {},
     "output_type": "execute_result"
    }
   ],
   "source": [
    "#Bools cols\n",
    "bool_cols_list = mf.bool_cols(df)\n",
    "bool_cols_list"
   ]
  },
  {
   "cell_type": "code",
   "execution_count": 13,
   "metadata": {},
   "outputs": [
    {
     "data": {
      "text/plain": [
       "[]"
      ]
     },
     "execution_count": 13,
     "metadata": {},
     "output_type": "execute_result"
    }
   ],
   "source": [
    "#Datetime cols\n",
    "datetime_cols_list = mf.datetime_cols(df)\n",
    "datetime_cols_list"
   ]
  },
  {
   "cell_type": "code",
   "execution_count": 14,
   "metadata": {},
   "outputs": [],
   "source": [
    "#Change to string\n",
    "mf.cols_to_string(df,['Title','Link','Person'])"
   ]
  },
  {
   "cell_type": "code",
   "execution_count": 15,
   "metadata": {},
   "outputs": [],
   "source": [
    "#Change to bool\n",
    "mf.cols_to_bool(df,['Volby',\n",
    " 'ANO',\n",
    " 'Piráti',\n",
    " 'Spolu',\n",
    " 'Stačilo',\n",
    " 'SPD',\n",
    " 'STAN',\n",
    " 'Motoristé',\n",
    " 'Válka_na_Ukrajině'])"
   ]
  },
  {
   "cell_type": "code",
   "execution_count": 16,
   "metadata": {},
   "outputs": [],
   "source": [
    "#Change to datetime\n",
    "mf.cols_to_datetime(df,['Download_Date'])"
   ]
  },
  {
   "cell_type": "code",
   "execution_count": 17,
   "metadata": {},
   "outputs": [
    {
     "data": {
      "text/plain": [
       "Title                string[python]\n",
       "Link                 string[python]\n",
       "Download_Date        datetime64[ns]\n",
       "Volby                          bool\n",
       "ANO                            bool\n",
       "Piráti                         bool\n",
       "Spolu                          bool\n",
       "Stačilo                        bool\n",
       "SPD                            bool\n",
       "STAN                           bool\n",
       "Motoristé                      bool\n",
       "Válka_na_Ukrajině              bool\n",
       "Person               string[python]\n",
       "dtype: object"
      ]
     },
     "execution_count": 17,
     "metadata": {},
     "output_type": "execute_result"
    }
   ],
   "source": [
    "df.dtypes"
   ]
  },
  {
   "cell_type": "code",
   "execution_count": 18,
   "metadata": {},
   "outputs": [
    {
     "data": {
      "text/html": [
       "<div>\n",
       "<style scoped>\n",
       "    .dataframe tbody tr th:only-of-type {\n",
       "        vertical-align: middle;\n",
       "    }\n",
       "\n",
       "    .dataframe tbody tr th {\n",
       "        vertical-align: top;\n",
       "    }\n",
       "\n",
       "    .dataframe thead th {\n",
       "        text-align: right;\n",
       "    }\n",
       "</style>\n",
       "<table border=\"1\" class=\"dataframe\">\n",
       "  <thead>\n",
       "    <tr style=\"text-align: right;\">\n",
       "      <th></th>\n",
       "      <th>Title</th>\n",
       "      <th>Link</th>\n",
       "      <th>Download_Date</th>\n",
       "      <th>Volby</th>\n",
       "      <th>ANO</th>\n",
       "      <th>Piráti</th>\n",
       "      <th>Spolu</th>\n",
       "      <th>Stačilo</th>\n",
       "      <th>SPD</th>\n",
       "      <th>STAN</th>\n",
       "      <th>Motoristé</th>\n",
       "      <th>Válka_na_Ukrajině</th>\n",
       "      <th>Person</th>\n",
       "    </tr>\n",
       "  </thead>\n",
       "  <tbody>\n",
       "    <tr>\n",
       "      <th>0</th>\n",
       "      <td>Kanaďané hromadně bojkotují americké zboží</td>\n",
       "      <td>https://www.novinky.cz/clanek/ekonomika-kanada...</td>\n",
       "      <td>2025-03-05</td>\n",
       "      <td>True</td>\n",
       "      <td>True</td>\n",
       "      <td>True</td>\n",
       "      <td>True</td>\n",
       "      <td>True</td>\n",
       "      <td>True</td>\n",
       "      <td>True</td>\n",
       "      <td>True</td>\n",
       "      <td>True</td>\n",
       "      <td>&lt;NA&gt;</td>\n",
       "    </tr>\n",
       "    <tr>\n",
       "      <th>1</th>\n",
       "      <td>Česká kolaborantská ostuda. Výrostci z dobrovo...</td>\n",
       "      <td>https://www.novinky.cz/clanek/historie-druha-s...</td>\n",
       "      <td>2025-03-05</td>\n",
       "      <td>True</td>\n",
       "      <td>True</td>\n",
       "      <td>True</td>\n",
       "      <td>True</td>\n",
       "      <td>True</td>\n",
       "      <td>True</td>\n",
       "      <td>True</td>\n",
       "      <td>True</td>\n",
       "      <td>True</td>\n",
       "      <td>&lt;NA&gt;</td>\n",
       "    </tr>\n",
       "    <tr>\n",
       "      <th>2</th>\n",
       "      <td>Trump urazil Lesotho</td>\n",
       "      <td>https://www.novinky.cz/clanek/zahranicni-ameri...</td>\n",
       "      <td>2025-03-05</td>\n",
       "      <td>True</td>\n",
       "      <td>True</td>\n",
       "      <td>True</td>\n",
       "      <td>True</td>\n",
       "      <td>True</td>\n",
       "      <td>True</td>\n",
       "      <td>True</td>\n",
       "      <td>True</td>\n",
       "      <td>True</td>\n",
       "      <td>&lt;NA&gt;</td>\n",
       "    </tr>\n",
       "    <tr>\n",
       "      <th>3</th>\n",
       "      <td>KOMENTÁŘ: Bílý dům dal ránu do zad - Alex Švam...</td>\n",
       "      <td>https://www.novinky.cz/clanek/komentare-koment...</td>\n",
       "      <td>2025-03-05</td>\n",
       "      <td>True</td>\n",
       "      <td>True</td>\n",
       "      <td>True</td>\n",
       "      <td>True</td>\n",
       "      <td>True</td>\n",
       "      <td>True</td>\n",
       "      <td>True</td>\n",
       "      <td>True</td>\n",
       "      <td>True</td>\n",
       "      <td>&lt;NA&gt;</td>\n",
       "    </tr>\n",
       "    <tr>\n",
       "      <th>4</th>\n",
       "      <td>Armády NATO nejsou připravené na dronovou válk...</td>\n",
       "      <td>https://www.novinky.cz/clanek/valka-na-ukrajin...</td>\n",
       "      <td>2025-03-05</td>\n",
       "      <td>True</td>\n",
       "      <td>True</td>\n",
       "      <td>True</td>\n",
       "      <td>True</td>\n",
       "      <td>True</td>\n",
       "      <td>True</td>\n",
       "      <td>True</td>\n",
       "      <td>True</td>\n",
       "      <td>True</td>\n",
       "      <td>&lt;NA&gt;</td>\n",
       "    </tr>\n",
       "  </tbody>\n",
       "</table>\n",
       "</div>"
      ],
      "text/plain": [
       "                                               Title  \\\n",
       "0         Kanaďané hromadně bojkotují americké zboží   \n",
       "1  Česká kolaborantská ostuda. Výrostci z dobrovo...   \n",
       "2                               Trump urazil Lesotho   \n",
       "3  KOMENTÁŘ: Bílý dům dal ránu do zad - Alex Švam...   \n",
       "4  Armády NATO nejsou připravené na dronovou válk...   \n",
       "\n",
       "                                                Link Download_Date  Volby  \\\n",
       "0  https://www.novinky.cz/clanek/ekonomika-kanada...    2025-03-05   True   \n",
       "1  https://www.novinky.cz/clanek/historie-druha-s...    2025-03-05   True   \n",
       "2  https://www.novinky.cz/clanek/zahranicni-ameri...    2025-03-05   True   \n",
       "3  https://www.novinky.cz/clanek/komentare-koment...    2025-03-05   True   \n",
       "4  https://www.novinky.cz/clanek/valka-na-ukrajin...    2025-03-05   True   \n",
       "\n",
       "    ANO  Piráti  Spolu  Stačilo   SPD  STAN  Motoristé  Válka_na_Ukrajině  \\\n",
       "0  True    True   True     True  True  True       True               True   \n",
       "1  True    True   True     True  True  True       True               True   \n",
       "2  True    True   True     True  True  True       True               True   \n",
       "3  True    True   True     True  True  True       True               True   \n",
       "4  True    True   True     True  True  True       True               True   \n",
       "\n",
       "  Person  \n",
       "0   <NA>  \n",
       "1   <NA>  \n",
       "2   <NA>  \n",
       "3   <NA>  \n",
       "4   <NA>  "
      ]
     },
     "execution_count": 18,
     "metadata": {},
     "output_type": "execute_result"
    }
   ],
   "source": [
    "df.head(5)"
   ]
  },
  {
   "cell_type": "markdown",
   "metadata": {},
   "source": [
    "### 2.2.2 True/False Keywords and Persons\n",
    "\n"
   ]
  },
  {
   "cell_type": "code",
   "execution_count": 19,
   "metadata": {},
   "outputs": [],
   "source": [
    "key_words_cols_check = list(df.loc[:,df.dtypes == bool].columns)\n"
   ]
  },
  {
   "cell_type": "code",
   "execution_count": 20,
   "metadata": {},
   "outputs": [
    {
     "data": {
      "text/plain": [
       "['i', 'am', 'ondrej']"
      ]
     },
     "execution_count": 20,
     "metadata": {},
     "output_type": "execute_result"
    }
   ],
   "source": [
    "test = 'I am Ondrej'\n",
    "test_2 = test.lower().split()\n",
    "test_2"
   ]
  },
  {
   "cell_type": "code",
   "execution_count": 21,
   "metadata": {},
   "outputs": [],
   "source": [
    "# function for keywords check\n",
    "def check_keyword(title, keywords):\n",
    "    title_lower = title.lower()\n",
    "\n",
    "    for word in keywords:\n",
    "        word_lower = word.lower()\n",
    "        regex = rf'\\b{re.escape(word_lower)}\\b'\n",
    "        if re.search(regex,title_lower):\n",
    "            return True\n",
    "    return False\n"
   ]
  },
  {
   "cell_type": "code",
   "execution_count": 22,
   "metadata": {},
   "outputs": [],
   "source": [
    "# keyford check function application\n",
    "for col in df[key_words_cols_check]:\n",
    "    df[col] = df['Title'].apply(lambda x : check_keyword(x,key_words[col]))"
   ]
  },
  {
   "cell_type": "code",
   "execution_count": 23,
   "metadata": {},
   "outputs": [],
   "source": [
    "# function for person check\n",
    "def check_person(title, persons):\n",
    "    person_list = []\n",
    "    for person in persons:\n",
    "        if person in title:\n",
    "            person_list.append(person)\n",
    "    if person_list:\n",
    "        return \", \".join(person_list)\n",
    "    else:\n",
    "        return np.nan\n",
    "    \n"
   ]
  },
  {
   "cell_type": "code",
   "execution_count": 24,
   "metadata": {},
   "outputs": [],
   "source": [
    "# fucntion person check application\n",
    "df['Person'] = df['Title'].apply(lambda x: check_person(x,key_person))"
   ]
  },
  {
   "cell_type": "code",
   "execution_count": 25,
   "metadata": {},
   "outputs": [
    {
     "data": {
      "text/html": [
       "<div>\n",
       "<style scoped>\n",
       "    .dataframe tbody tr th:only-of-type {\n",
       "        vertical-align: middle;\n",
       "    }\n",
       "\n",
       "    .dataframe tbody tr th {\n",
       "        vertical-align: top;\n",
       "    }\n",
       "\n",
       "    .dataframe thead th {\n",
       "        text-align: right;\n",
       "    }\n",
       "</style>\n",
       "<table border=\"1\" class=\"dataframe\">\n",
       "  <thead>\n",
       "    <tr style=\"text-align: right;\">\n",
       "      <th></th>\n",
       "      <th>Title</th>\n",
       "      <th>Link</th>\n",
       "      <th>Download_Date</th>\n",
       "      <th>Volby</th>\n",
       "      <th>ANO</th>\n",
       "      <th>Piráti</th>\n",
       "      <th>Spolu</th>\n",
       "      <th>Stačilo</th>\n",
       "      <th>SPD</th>\n",
       "      <th>STAN</th>\n",
       "      <th>Motoristé</th>\n",
       "      <th>Válka_na_Ukrajině</th>\n",
       "      <th>Person</th>\n",
       "    </tr>\n",
       "  </thead>\n",
       "  <tbody>\n",
       "    <tr>\n",
       "      <th>2</th>\n",
       "      <td>Trump urazil Lesotho</td>\n",
       "      <td>https://www.novinky.cz/clanek/zahranicni-ameri...</td>\n",
       "      <td>2025-03-05</td>\n",
       "      <td>False</td>\n",
       "      <td>False</td>\n",
       "      <td>False</td>\n",
       "      <td>False</td>\n",
       "      <td>False</td>\n",
       "      <td>False</td>\n",
       "      <td>False</td>\n",
       "      <td>False</td>\n",
       "      <td>False</td>\n",
       "      <td>Trump</td>\n",
       "    </tr>\n",
       "    <tr>\n",
       "      <th>33</th>\n",
       "      <td>EXPRESS NOVINEK: Trumpova cla a přerušení pomo...</td>\n",
       "      <td>https://www.novinky.cz/clanek/podcasty-express...</td>\n",
       "      <td>2025-03-05</td>\n",
       "      <td>False</td>\n",
       "      <td>False</td>\n",
       "      <td>False</td>\n",
       "      <td>False</td>\n",
       "      <td>False</td>\n",
       "      <td>False</td>\n",
       "      <td>False</td>\n",
       "      <td>False</td>\n",
       "      <td>True</td>\n",
       "      <td>Trump</td>\n",
       "    </tr>\n",
       "    <tr>\n",
       "      <th>41</th>\n",
       "      <td>FOTO: „To je lež,“ zvedali demokraté v Kongres...</td>\n",
       "      <td>https://www.novinky.cz/clanek/zahranicni-ameri...</td>\n",
       "      <td>2025-03-05</td>\n",
       "      <td>False</td>\n",
       "      <td>False</td>\n",
       "      <td>False</td>\n",
       "      <td>False</td>\n",
       "      <td>False</td>\n",
       "      <td>False</td>\n",
       "      <td>False</td>\n",
       "      <td>False</td>\n",
       "      <td>False</td>\n",
       "      <td>Trump</td>\n",
       "    </tr>\n",
       "  </tbody>\n",
       "</table>\n",
       "</div>"
      ],
      "text/plain": [
       "                                                Title  \\\n",
       "2                                Trump urazil Lesotho   \n",
       "33  EXPRESS NOVINEK: Trumpova cla a přerušení pomo...   \n",
       "41  FOTO: „To je lež,“ zvedali demokraté v Kongres...   \n",
       "\n",
       "                                                 Link Download_Date  Volby  \\\n",
       "2   https://www.novinky.cz/clanek/zahranicni-ameri...    2025-03-05  False   \n",
       "33  https://www.novinky.cz/clanek/podcasty-express...    2025-03-05  False   \n",
       "41  https://www.novinky.cz/clanek/zahranicni-ameri...    2025-03-05  False   \n",
       "\n",
       "      ANO  Piráti  Spolu  Stačilo    SPD   STAN  Motoristé  Válka_na_Ukrajině  \\\n",
       "2   False   False  False    False  False  False      False              False   \n",
       "33  False   False  False    False  False  False      False               True   \n",
       "41  False   False  False    False  False  False      False              False   \n",
       "\n",
       "   Person  \n",
       "2   Trump  \n",
       "33  Trump  \n",
       "41  Trump  "
      ]
     },
     "execution_count": 25,
     "metadata": {},
     "output_type": "execute_result"
    }
   ],
   "source": [
    "df.loc[(df[key_words_cols_check].any(axis = 1)) | (df.Person.notna()),:]"
   ]
  },
  {
   "cell_type": "code",
   "execution_count": null,
   "metadata": {},
   "outputs": [],
   "source": []
  },
  {
   "cell_type": "markdown",
   "metadata": {},
   "source": [
    "# 3. Load to the SQL"
   ]
  },
  {
   "cell_type": "markdown",
   "metadata": {},
   "source": [
    "## 3.1 Connect to SQL Server"
   ]
  },
  {
   "cell_type": "code",
   "execution_count": 26,
   "metadata": {},
   "outputs": [],
   "source": [
    "sql_manager = SqlManager(server='DELL_ONDRA\\\\SQLEXPRESS',odbc_driver='ODBC Driver 17 for SQL Server', database= 'WebScraping')"
   ]
  },
  {
   "cell_type": "code",
   "execution_count": 27,
   "metadata": {},
   "outputs": [
    {
     "name": "stdout",
     "output_type": "stream",
     "text": [
      "Successfully connected\n"
     ]
    }
   ],
   "source": [
    "engine = sql_manager.connect()"
   ]
  },
  {
   "cell_type": "code",
   "execution_count": 28,
   "metadata": {},
   "outputs": [
    {
     "name": "stdout",
     "output_type": "stream",
     "text": [
      "Table already exists, please select another method (Append, Overwrite, Truncate)\n"
     ]
    }
   ],
   "source": [
    "sql_manager.create_table(table_name= 'WebScraping_history', database='WebScraping',data_frame=df)"
   ]
  },
  {
   "cell_type": "markdown",
   "metadata": {},
   "source": [
    "## 3.3 New DF vs Saved Articles"
   ]
  },
  {
   "cell_type": "code",
   "execution_count": 29,
   "metadata": {},
   "outputs": [],
   "source": [
    "new_df = df.loc[(df[key_words_cols_check].any(axis = 1)) | (df.Person.notna()),:]"
   ]
  },
  {
   "cell_type": "code",
   "execution_count": 30,
   "metadata": {},
   "outputs": [],
   "source": [
    "already_saved_articles = sql_manager.execute_query_to_df('DISTINCT(Title) FROM [WebScraping].[dbo].[WebScraping_history] ')"
   ]
  },
  {
   "cell_type": "code",
   "execution_count": 31,
   "metadata": {},
   "outputs": [],
   "source": [
    "new_df_title_set = set(new_df.Title)"
   ]
  },
  {
   "cell_type": "code",
   "execution_count": 32,
   "metadata": {},
   "outputs": [],
   "source": [
    "already_saved_article_set = set(already_saved_articles.Title)"
   ]
  },
  {
   "cell_type": "code",
   "execution_count": 33,
   "metadata": {},
   "outputs": [],
   "source": [
    "final_articles =  list(new_df_title_set - already_saved_article_set)"
   ]
  },
  {
   "cell_type": "code",
   "execution_count": 34,
   "metadata": {},
   "outputs": [
    {
     "data": {
      "text/html": [
       "<div>\n",
       "<style scoped>\n",
       "    .dataframe tbody tr th:only-of-type {\n",
       "        vertical-align: middle;\n",
       "    }\n",
       "\n",
       "    .dataframe tbody tr th {\n",
       "        vertical-align: top;\n",
       "    }\n",
       "\n",
       "    .dataframe thead th {\n",
       "        text-align: right;\n",
       "    }\n",
       "</style>\n",
       "<table border=\"1\" class=\"dataframe\">\n",
       "  <thead>\n",
       "    <tr style=\"text-align: right;\">\n",
       "      <th></th>\n",
       "      <th>Title</th>\n",
       "      <th>Link</th>\n",
       "      <th>Download_Date</th>\n",
       "      <th>Volby</th>\n",
       "      <th>ANO</th>\n",
       "      <th>Piráti</th>\n",
       "      <th>Spolu</th>\n",
       "      <th>Stačilo</th>\n",
       "      <th>SPD</th>\n",
       "      <th>STAN</th>\n",
       "      <th>Motoristé</th>\n",
       "      <th>Válka_na_Ukrajině</th>\n",
       "      <th>Person</th>\n",
       "    </tr>\n",
       "  </thead>\n",
       "  <tbody>\n",
       "    <tr>\n",
       "      <th>2</th>\n",
       "      <td>Trump urazil Lesotho</td>\n",
       "      <td>https://www.novinky.cz/clanek/zahranicni-ameri...</td>\n",
       "      <td>2025-03-05</td>\n",
       "      <td>False</td>\n",
       "      <td>False</td>\n",
       "      <td>False</td>\n",
       "      <td>False</td>\n",
       "      <td>False</td>\n",
       "      <td>False</td>\n",
       "      <td>False</td>\n",
       "      <td>False</td>\n",
       "      <td>False</td>\n",
       "      <td>Trump</td>\n",
       "    </tr>\n",
       "    <tr>\n",
       "      <th>41</th>\n",
       "      <td>FOTO: „To je lež,“ zvedali demokraté v Kongres...</td>\n",
       "      <td>https://www.novinky.cz/clanek/zahranicni-ameri...</td>\n",
       "      <td>2025-03-05</td>\n",
       "      <td>False</td>\n",
       "      <td>False</td>\n",
       "      <td>False</td>\n",
       "      <td>False</td>\n",
       "      <td>False</td>\n",
       "      <td>False</td>\n",
       "      <td>False</td>\n",
       "      <td>False</td>\n",
       "      <td>False</td>\n",
       "      <td>Trump</td>\n",
       "    </tr>\n",
       "  </tbody>\n",
       "</table>\n",
       "</div>"
      ],
      "text/plain": [
       "                                                Title  \\\n",
       "2                                Trump urazil Lesotho   \n",
       "41  FOTO: „To je lež,“ zvedali demokraté v Kongres...   \n",
       "\n",
       "                                                 Link Download_Date  Volby  \\\n",
       "2   https://www.novinky.cz/clanek/zahranicni-ameri...    2025-03-05  False   \n",
       "41  https://www.novinky.cz/clanek/zahranicni-ameri...    2025-03-05  False   \n",
       "\n",
       "      ANO  Piráti  Spolu  Stačilo    SPD   STAN  Motoristé  Válka_na_Ukrajině  \\\n",
       "2   False   False  False    False  False  False      False              False   \n",
       "41  False   False  False    False  False  False      False              False   \n",
       "\n",
       "   Person  \n",
       "2   Trump  \n",
       "41  Trump  "
      ]
     },
     "execution_count": 34,
     "metadata": {},
     "output_type": "execute_result"
    }
   ],
   "source": [
    "df_result = df.loc[df.Title.apply(lambda x: x in final_articles),:]\n",
    "df_result"
   ]
  },
  {
   "cell_type": "markdown",
   "metadata": {},
   "source": [
    "## 3.3 Insert Data to SQL"
   ]
  },
  {
   "cell_type": "code",
   "execution_count": 35,
   "metadata": {},
   "outputs": [
    {
     "name": "stdout",
     "output_type": "stream",
     "text": [
      "Data will be inserted in a moment\n",
      "Data successfully appended\n"
     ]
    }
   ],
   "source": [
    "if df_result.shape[0] == 0:\n",
    "    pass\n",
    "else:\n",
    "    sql_manager.append_existing_table(table_name = 'WebScraping_history', database='WebScraping', data_frame= df_result)"
   ]
  },
  {
   "cell_type": "code",
   "execution_count": 36,
   "metadata": {},
   "outputs": [
    {
     "name": "stdout",
     "output_type": "stream",
     "text": [
      "Connection closed\n"
     ]
    }
   ],
   "source": [
    "sql_manager.disconnect()"
   ]
  },
  {
   "cell_type": "code",
   "execution_count": null,
   "metadata": {},
   "outputs": [],
   "source": []
  }
 ],
 "metadata": {
  "kernelspec": {
   "display_name": "Python 3",
   "language": "python",
   "name": "python3"
  },
  "language_info": {
   "codemirror_mode": {
    "name": "ipython",
    "version": 3
   },
   "file_extension": ".py",
   "mimetype": "text/x-python",
   "name": "python",
   "nbconvert_exporter": "python",
   "pygments_lexer": "ipython3",
   "version": "3.12.4"
  }
 },
 "nbformat": 4,
 "nbformat_minor": 2
}
